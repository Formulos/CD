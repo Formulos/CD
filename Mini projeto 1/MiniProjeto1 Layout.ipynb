{
 "cells": [
  {
   "cell_type": "markdown",
   "metadata": {},
   "source": [
    "___\n",
    "# MINIPROJETO 1"
   ]
  },
  {
   "cell_type": "markdown",
   "metadata": {},
   "source": [
    "## <font color='red'>COLOQUE AQUI SEU NOME</font>\n",
    "___"
   ]
  },
  {
   "cell_type": "markdown",
   "metadata": {},
   "source": [
    "## <font color='blue'>População rural no mundo</font>"
   ]
  },
  {
   "cell_type": "markdown",
   "metadata": {},
   "source": [
    "___\n",
    "### Itens 1 a 3 - Resolução:"
   ]
  },
  {
   "cell_type": "code",
   "execution_count": 1,
   "metadata": {
    "collapsed": false
   },
   "outputs": [
    {
     "name": "stdout",
     "output_type": "stream",
     "text": [
      "Esperamos trabalhar no diretório\n",
      "C:\\Users\\Paulo\\Documents\\GitHub\\CD\\Mini projeto 1\n"
     ]
    }
   ],
   "source": [
    "%matplotlib inline\n",
    "import pandas as pd\n",
    "import matplotlib.pyplot as plt\n",
    "import numpy as np\n",
    "import os\n",
    "from scipy import stats\n",
    "import itertools\n",
    "\n",
    "print('Esperamos trabalhar no diretório')\n",
    "print(os.getcwd())"
   ]
  },
  {
   "cell_type": "code",
   "execution_count": 2,
   "metadata": {
    "collapsed": false
   },
   "outputs": [],
   "source": [
    "dados = pd.read_excel(\"WDI-world.xlsx\")"
   ]
  },
  {
   "cell_type": "code",
   "execution_count": 3,
   "metadata": {
    "collapsed": false
   },
   "outputs": [],
   "source": [
    "p_rural = pd.Series(dados.iloc[1191,5:58])\n",
    "p_rural.columns = ['População rural']\n",
    "p_rural = p_rural.astype('float')\n",
    "p_rural = p_rural.divide(1.0e+09) #para se tornar continua"
   ]
  },
  {
   "cell_type": "code",
   "execution_count": 4,
   "metadata": {
    "collapsed": false
   },
   "outputs": [],
   "source": [
    "\n",
    "#plt.legend(loc='upper left')\n",
    "plt.show()"
   ]
  },
  {
   "cell_type": "markdown",
   "metadata": {
    "collapsed": true
   },
   "source": [
    "___\n",
    "### Itens 4 a 6 - Resolução:"
   ]
  },
  {
   "cell_type": "markdown",
   "metadata": {
    "collapsed": true
   },
   "source": [
    "É um caso  de simetria negativa."
   ]
  },
  {
   "cell_type": "markdown",
   "metadata": {
    "collapsed": true
   },
   "source": [
    "Ele pode seguir a distribuição de Gauss hyperbolico,pois a curva de Gauss quando \"c\"(um dos argumentos) é parecido com uma curva exponencial. Tambem pode ser usado beta pois ela se enquandra em varios modelos, e pode ser semelhante uma curva exponencial. "
   ]
  },
  {
   "cell_type": "code",
   "execution_count": 6,
   "metadata": {
    "collapsed": false
   },
   "outputs": [
    {
     "data": {
      "text/plain": [
       "[<matplotlib.lines.Line2D at 0x27d5a9f4588>]"
      ]
     },
     "execution_count": 6,
     "metadata": {},
     "output_type": "execute_result"
    },
    {
     "data": {
      "image/png": "[encoded data removed]",
      "text/plain": [
       "<matplotlib.figure.Figure at 0x27d5a9f49b0>"
      ]
     },
     "metadata": {},
     "output_type": "display_data"
    }
   ],
   "source": [
    "x = np.linspace(2.000000,3.36,15)\n",
    "\n",
    "a = 2\n",
    "b = 1\n",
    "c = 0.5\n",
    "z = 2.5\n",
    "\n",
    "plot = p_rural.plot.hist(bins=20,label = 'CO2',normed = 1)\n",
    "\n",
    "plt.plot(x, stats.gausshyper.pdf(x, a, b, c, z), color='red')\n",
    "\n",
    "d = 7\n",
    "e = 1.1\n",
    "\n",
    "plt.plot(x, stats.beta.pdf(x, d, e),color = 'green')"
   ]
  },
  {
   "cell_type": "code",
   "execution_count": 7,
   "metadata": {
    "collapsed": false
   },
   "outputs": [
    {
     "name": "stdout",
     "output_type": "stream",
     "text": [
      "2.31974178174 0.89547946516 0.667445855908 2.65950427468\n"
     ]
    },
    {
     "data": {
      "text/plain": [
       "[<matplotlib.lines.Line2D at 0x27d5af9ecc0>]"
      ]
     },
     "execution_count": 7,
     "metadata": {},
     "output_type": "execute_result"
    },
    {
     "data": {
      "image/png": "[encoded data removed]",
      "text/plain": [
       "<matplotlib.figure.Figure at 0x27d5af25390>"
      ]
     },
     "metadata": {},
     "output_type": "display_data"
    }
   ],
   "source": [
    "\n",
    "\n",
    "\n",
    "plot = p_rural.plot.hist(bins=x,label = 'CO2',alpha = 0.7,normed=1)\n",
    "\n",
    "#gauss hyperbolico, ele normalme se parece uma curva em forma de sino.\n",
    "a,b,c,z,loc1,scale1 = stats.gausshyper.fit(p_rural) #a= altura do \"sino\", b = posição de x de a, c = Desvio padrão\n",
    "plt.plot(x, stats.gausshyper.pdf(x, a, b, c, z,loc1,scale1), '-', color='red', label=\"Gauss\")\n",
    "print(a,b,c,z)\n",
    "\n",
    "#beta\n",
    "d,e,loc2,scale2 = stats.beta.fit(p_rural)\n",
    "plt.plot(x, stats.beta.pdf(x, d, e, loc2, scale2), '-', color='green', label=\"Poisson\")"
   ]
  },
  {
   "cell_type": "markdown",
   "metadata": {
    "collapsed": true
   },
   "source": [
    "___\n",
    "### Itens 7 a 9 - Resolução:"
   ]
  },
  {
   "cell_type": "code",
   "execution_count": 8,
   "metadata": {
    "collapsed": false
   },
   "outputs": [
    {
     "data": {
      "image/png": "[encoded data removed]",
      "text/plain": [
       "<matplotlib.figure.Figure at 0x27d5af60be0>"
      ]
     },
     "metadata": {},
     "output_type": "display_data"
    }
   ],
   "source": [
    "# dados ordenados e quantis teóricos - QQplot\n",
    "\n",
    "# Calcula a frequência relativa acumulada com os dados vindos dos arquivos\n",
    "fra = [] # frequencia relativa acumulada\n",
    "for i in range(len(p_rural)):\n",
    "    acc = (i - 0.5) / len(p_rural)\n",
    "    if acc < 0:\n",
    "        acc = 0\n",
    "    fra.append(acc) # ver Magalhães e Lima (pag. 195)\n",
    "\n",
    "# Convertemos fra em uma Series do Pandas\n",
    "fra = pd.Series(data=fra)\n",
    "\n",
    "# Gera os valores dos quantis teóricos para as distribuições analisadas\n",
    "q_gauss = stats.gausshyper.ppf(fra, a, b, c, z, loc=loc1, scale=scale1)\n",
    "q_beta = stats.beta.ppf(fra, d, e, loc=loc2, scale=loc2) # quantis teóricos da beta\n",
    "\n",
    "\n",
    "fig = plt.figure(figsize=(12,8))\n",
    "\n",
    "plt.title(\"Q-Q plot: Dados x gauss_hyp x Beta\")\n",
    "\n",
    "gauss_plot, = plt.plot(p_rural, q_gauss, 'o', color=\"red\", label=\"Gauss_hyp\")\n",
    "beta_plot, = plt.plot(p_rural, q_beta, 'o', color=\"green\", label = \"Beta\")\n",
    "\n",
    "plt.legend(handles=[gauss_plot, beta_plot])\n",
    "plt.plot((min(p_rural), max(p_rural)), (min(p_rural), max(p_rural)), '-')\n",
    "\n",
    "\n",
    "for i in range(len(p_rural)):\n",
    "    plt.plot((p_rural[i], p_rural[i]), (q_gauss[i], p_rural[i]), '-', color='red', alpha=0.4  )\n",
    "    plt.plot((p_rural[i], p_rural[i]), (q_beta[i], p_rural[i]), '-', color='green', alpha=0.4  )\n",
    "\n"
   ]
  },
  {
   "cell_type": "code",
   "execution_count": 9,
   "metadata": {
    "collapsed": false,
    "scrolled": true
   },
   "outputs": [
    {
     "data": {
      "text/plain": [
       "[<matplotlib.lines.Line2D at 0x27d5b356630>]"
      ]
     },
     "execution_count": 9,
     "metadata": {},
     "output_type": "execute_result"
    },
    {
     "data": {
      "image/png": "[encoded data removed]",
      "text/plain": [
       "<matplotlib.figure.Figure at 0x27d5afc6c18>"
      ]
     },
     "metadata": {},
     "output_type": "display_data"
    }
   ],
   "source": [
    "x1 = np.linspace(2.000000,3.4,15)# mudei o \"x\" para a distribuição acumulada chegar a 1 (esse \"x\" é so usado no grafico abaixo)\n",
    "                                 # se o x fosse mudado antes o histograma do exercio 6 ficaria errado\n",
    "\n",
    "lista_guass = []\n",
    "lista_beta = []\n",
    "\n",
    "for i in x1:\n",
    "    v1 = stats.gausshyper.cdf(i, a, b, c, z,loc1,scale1)\n",
    "    v2 = stats.beta.cdf(i, d, e, loc=loc2, scale=scale2)\n",
    "    \n",
    "    lista_guass.append(v1)\n",
    "    lista_beta.append(v2)\n",
    "\n",
    "\n",
    "plt.plot(p_rural,fra, '-', color='blue', label=\"Gauss\")\n",
    "plt.plot(x1,lista_beta, '-', color='green', label=\"Gauss\")\n",
    "plt.plot(x1,lista_guass, '-', color='red', label=\"Gauss\")\n",
    "\n"
   ]
  },
  {
   "cell_type": "markdown",
   "metadata": {},
   "source": [
    "Esse grafico mostra as diferentes probabilidades acumuladas pelas 2 funçoes e pelo modelo real. Como podemos ver as probabilidades acumuladas de gauss hyp e Beta são semelhantes a real.  "
   ]
  },
  {
   "cell_type": "markdown",
   "metadata": {},
   "source": [
    "___\n",
    "### Itens 10 e 11 - Resolução:"
   ]
  },
  {
   "cell_type": "code",
   "execution_count": 10,
   "metadata": {
    "collapsed": false
   },
   "outputs": [
    {
     "name": "stdout",
     "output_type": "stream",
     "text": [
      "Erro quadrático da gauss :0.329\n",
      "\n",
      "Erro quadrático da beta :9.404\n",
      "\n"
     ]
    }
   ],
   "source": [
    "#Erro quadrático\n",
    "\n",
    "erro_quadratico_Gauss = sum((p_rural - q_gauss)**2)\n",
    "erro_quadratico_beta = sum((p_rural - q_beta)**2)\n",
    "\n",
    "print(\"Erro quadrático da gauss :{:4.3f}\\n\".format(erro_quadratico_Gauss))\n",
    "print(\"Erro quadrático da beta :{:4.3f}\\n\".format(erro_quadratico_beta))"
   ]
  },
  {
   "cell_type": "code",
   "execution_count": 11,
   "metadata": {
    "collapsed": false
   },
   "outputs": [
    {
     "name": "stdout",
     "output_type": "stream",
     "text": [
      "2.80384041653\n",
      "3.19999587931\n"
     ]
    }
   ],
   "source": [
    "# dados para a tabela abaixo\n",
    "\n",
    "print(np.mean(q_gauss))#media do qq plot de gauss hiperbolico\n",
    "print(np.mean(q_beta))#media do qq plot de gauss hiperbolico\n"
   ]
  },
  {
   "cell_type": "markdown",
   "metadata": {
    "collapsed": false
   },
   "source": [
    "\n",
    "\n",
    "\n",
    "|data| Gauss hyp |  Beta  |\n",
    "|------|------|------|\n",
    "|Erro quadratico|  2.803   | 3.2|\n",
    "|Média de Q-Q|   0.329  | 9.404|\n",
    "\n",
    "\n"
   ]
  },
  {
   "cell_type": "markdown",
   "metadata": {},
   "source": [
    "### Conclusão:\n",
    "\n",
    "podemos ver que nesse caso a distribuição de Gaus é a melhor opção, apesar que nos primeiros pontos ela tem uma taxa de erro alta(principalmente se consideramos que a população esta em bilhões assim o erro pode passar de 250 millhoes), porem o erro diminue e se torna pequeno, tornando-se o melhor modelo para esse sistema como mostra o erro quadratico, que é 10 vezes menos que o erro de beta. O modelo beta consegue prever os primeiros dados com precisão, porem quanto maior é o \"x\" maior é o erro de beta."
   ]
  }
 ],
 "metadata": {
  "anaconda-cloud": {},
  "kernelspec": {
   "display_name": "Python 3",
   "language": "python",
   "name": "python3"
  },
  "language_info": {
   "codemirror_mode": {
    "name": "ipython",
    "version": 3
   },
   "file_extension": ".py",
   "mimetype": "text/x-python",
   "name": "python",
   "nbconvert_exporter": "python",
   "pygments_lexer": "ipython3",
   "version": "3.5.1"
  }
 },
 "nbformat": 4,
 "nbformat_minor": 0
}
