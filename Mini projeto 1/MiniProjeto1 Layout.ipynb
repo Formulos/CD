{
 "cells": [
  {
   "cell_type": "markdown",
   "metadata": {},
   "source": [
    "___\n",
    "# MINIPROJETO 1"
   ]
  },
  {
   "cell_type": "markdown",
   "metadata": {},
   "source": [
    "## <font color='red'>COLOQUE AQUI SEU NOME</font>\n",
    "___"
   ]
  },
  {
   "cell_type": "markdown",
   "metadata": {},
   "source": [
    "## <font color='blue'>População rural no mundo</font>"
   ]
  },
  {
   "cell_type": "markdown",
   "metadata": {},
   "source": [
    "___\n",
    "### Itens 1 a 3 - Resolução:"
   ]
  },
  {
   "cell_type": "code",
   "execution_count": 1,
   "metadata": {
    "collapsed": false
   },
   "outputs": [
    {
     "name": "stdout",
     "output_type": "stream",
     "text": [
      "Esperamos trabalhar no diretório\n",
      "C:\\Users\\Paulo\\Documents\\GitHub\\CD\\Mini projeto 1\n"
     ]
    }
   ],
   "source": [
    "%matplotlib inline\n",
    "import pandas as pd\n",
    "import matplotlib.pyplot as plt\n",
    "import numpy as np\n",
    "import os\n",
    "from scipy import stats\n",
    "import itertools\n",
    "\n",
    "print('Esperamos trabalhar no diretório')\n",
    "print(os.getcwd())"
   ]
  },
  {
   "cell_type": "code",
   "execution_count": 2,
   "metadata": {
    "collapsed": false
   },
   "outputs": [],
   "source": [
    "dados = pd.read_excel(\"WDI-world.xlsx\")"
   ]
  },
  {
   "cell_type": "code",
   "execution_count": 3,
   "metadata": {
    "collapsed": false
   },
   "outputs": [
    {
     "data": {
      "text/plain": [
       "1961    2.020060\n",
       "1962    2.040820\n",
       "1963    2.070607\n",
       "1964    2.100061\n",
       "1965    2.135535\n",
       "1966    2.173555\n",
       "1967    2.210680\n",
       "1968    2.248414\n",
       "1969    2.288296\n",
       "1970    2.328911\n",
       "1971    2.370842\n",
       "1972    2.411197\n",
       "1973    2.449846\n",
       "1974    2.486817\n",
       "1975    2.524163\n",
       "1976    2.559228\n",
       "1977    2.593457\n",
       "1978    2.624828\n",
       "1979    2.653819\n",
       "1980    2.682358\n",
       "1981    2.710627\n",
       "1982    2.741804\n",
       "1983    2.774410\n",
       "1984    2.805858\n",
       "1985    2.837672\n",
       "1986    2.870333\n",
       "1987    2.904164\n",
       "1988    2.936921\n",
       "1989    2.970010\n",
       "1990    3.002568\n",
       "1991    3.032769\n",
       "1992    3.061615\n",
       "1993    3.089304\n",
       "1994    3.116169\n",
       "1995    3.142198\n",
       "1996    3.167411\n",
       "1997    3.191858\n",
       "1998    3.214991\n",
       "1999    3.236704\n",
       "2000    3.256747\n",
       "2001    3.271995\n",
       "2002    3.282963\n",
       "2003    3.292977\n",
       "2004    3.302120\n",
       "2005    3.310484\n",
       "2006    3.318740\n",
       "2007    3.326498\n",
       "2008    3.333704\n",
       "2009    3.340563\n",
       "2010    3.346928\n",
       "2011    3.353008\n",
       "2012    3.358735\n",
       "2013    3.365564\n",
       "Name: 1191, dtype: float64"
      ]
     },
     "execution_count": 3,
     "metadata": {},
     "output_type": "execute_result"
    }
   ],
   "source": [
    "p_rural = pd.Series(dados.iloc[1191,5:58])\n",
    "#co2_mtp = co2_mtp.transpose()\n",
    "p_rural.columns = ['População rural']\n",
    "p_rural = p_rural.astype('float')\n",
    "p_rural = p_rural.divide(1.0e+09) #para se tornar continua\n",
    "\n",
    "\n",
    "p_rural\n",
    "\n"
   ]
  },
  {
   "cell_type": "code",
   "execution_count": 4,
   "metadata": {
    "collapsed": false
   },
   "outputs": [
    {
     "data": {
      "image/png": "[encoded data removed]",
      "text/plain": [
       "<matplotlib.figure.Figure at 0x1cfafb57c50>"
      ]
     },
     "metadata": {},
     "output_type": "display_data"
    }
   ],
   "source": [
    "plot = p_rural.plot.hist(bins=20,label = 'CO2')\n",
    "#plt.legend(loc='upper left')\n",
    "plt.show()"
   ]
  },
  {
   "cell_type": "markdown",
   "metadata": {
    "collapsed": true
   },
   "source": [
    "___\n",
    "### Itens 4 a 6 - Resolução:"
   ]
  },
  {
   "cell_type": "markdown",
   "metadata": {
    "collapsed": true
   },
   "source": [
    "É um caso  de simetria negativa."
   ]
  },
  {
   "cell_type": "markdown",
   "metadata": {
    "collapsed": true
   },
   "source": [
    "Ele pode seguir a distribuição de Poisson,pois esses elementos são idependentes e o p_rural entre as ocorrencias são proporcionais.Tamebm seria possivel seguir a distribuição continua, pois a media e a mediana não são muito diferentes, como mostrado abaixo."
   ]
  },
  {
   "cell_type": "code",
   "execution_count": 5,
   "metadata": {
    "collapsed": false
   },
   "outputs": [],
   "source": [
    "#para poisson\n",
    "mu_estimado = p_rural.mean()\n",
    "mean = mean, var, skew, kurt = stats.poisson.stats(mu_estimado, moments='mvsk')"
   ]
  },
  {
   "cell_type": "code",
   "execution_count": 15,
   "metadata": {
    "collapsed": false
   },
   "outputs": [
    {
     "data": {
      "text/plain": [
       "[<matplotlib.lines.Line2D at 0x1cfb0e3ecf8>]"
      ]
     },
     "execution_count": 15,
     "metadata": {},
     "output_type": "execute_result"
    },
    {
     "data": {
      "image/png": "[encoded data removed]",
      "text/plain": [
       "<matplotlib.figure.Figure at 0x1cfb1969908>"
      ]
     },
     "metadata": {},
     "output_type": "display_data"
    }
   ],
   "source": [
    "# poisson não tem fit portanto\n",
    "mu = mu_estimado\n",
    "\n",
    "x = np.linspace(2.000000,3.3,15)\n",
    "\n",
    "plot = p_rural.plot.hist(bins=x,label = 'CO2',alpha = 0.7,normed=1)\n",
    "\n",
    "#gauss, ele normalme se parece uma curva em forma de sino.\n",
    "a,b,c,z,loc1,scale1 = stats.gausshyper.fit(p_rural) #a= altura do \"sino\", b = posição de x de a, c = Desvio padrão\n",
    "plt.plot(x, stats.gausshyper.pdf(x, a, b, c, z,loc1,scale1), '-', color='red', label=\"Gauss\")\n",
    "\n",
    "#beta\n",
    "d,e,loc2,scale2 = stats.beta.fit(p_rural)\n",
    "plt.plot(x, stats.beta.pdf(x, d, e, loc2, scale2), '-', color='green', label=\"Poisson\")\n"
   ]
  },
  {
   "cell_type": "markdown",
   "metadata": {
    "collapsed": true
   },
   "source": [
    "___\n",
    "### Itens 7 a 9 - Resolução:"
   ]
  },
  {
   "cell_type": "code",
   "execution_count": 37,
   "metadata": {
    "collapsed": false
   },
   "outputs": [
    {
     "data": {
      "image/png": "[encoded data removed]",
      "text/plain": [
       "<matplotlib.figure.Figure at 0x1cfb18465c0>"
      ]
     },
     "metadata": {},
     "output_type": "display_data"
    }
   ],
   "source": [
    "# dados ordenados e quantis teóricos - QQplot\n",
    "\n",
    "# Calcula a frequência relativa acumulada com os dados vindos dos arquivos\n",
    "fra = [] # frequencia relativa acumulada\n",
    "for i in range(len(p_rural)):\n",
    "    acc = (i - 0.5) / len(p_rural)\n",
    "    if acc < 0:\n",
    "        acc = 0\n",
    "    fra.append(acc) # ver Magalhães e Lima (pag. 195)\n",
    "\n",
    "# Convertemos fra em uma Series do Pandas\n",
    "fra = pd.Series(data=fra)\n",
    "\n",
    "# Gera os valores dos quantis teóricos para as distribuições analisadas\n",
    "q_gauss = stats.gausshyper.ppf(fra, a, b, c, z, loc=loc1, scale=scale1)\n",
    "q_beta = stats.beta.ppf(fra, d, e, loc=loc2, scale=loc2) # quantis teóricos da beta\n",
    "\n",
    "\n",
    "fig = plt.figure(figsize=(12,8))\n",
    "\n",
    "plt.title(\"Q-Q plot: Dados x Exponencial x Gamma\")\n",
    "\n",
    "gauss_plot, = plt.plot(p_rural, q_gauss, 'o', color=\"red\", label=\"Gauss\")\n",
    "beta_plot, = plt.plot(p_rural, q_beta, 'o', color=\"green\", label = \"beta\")\n",
    "\n",
    "plt.legend(handles=[gauss_plot, beta_plot])\n",
    "plt.plot((min(p_rural), max(p_rural)), (min(p_rural), max(p_rural)), '-')\n",
    "\n",
    "\n",
    "for i in range(len(p_rural)):\n",
    "    plt.plot((p_rural[i], p_rural[i]), (q_gauss[i], p_rural[i]), '-', color='red', alpha=0.4  )\n",
    "    plt.plot((p_rural[i], p_rural[i]), (q_beta[i], p_rural[i]), '-', color='green', alpha=0.4  )\n",
    "\n"
   ]
  },
  {
   "cell_type": "code",
   "execution_count": 69,
   "metadata": {
    "collapsed": false,
    "scrolled": true
   },
   "outputs": [
    {
     "data": {
      "text/plain": [
       "[<matplotlib.lines.Line2D at 0x1cfb18219b0>]"
      ]
     },
     "execution_count": 69,
     "metadata": {},
     "output_type": "execute_result"
    },
    {
     "data": {
      "image/png": "[encoded data removed]",
      "text/plain": [
       "<matplotlib.figure.Figure at 0x1cfb182f240>"
      ]
     },
     "metadata": {},
     "output_type": "display_data"
    }
   ],
   "source": [
    "lista_guass = []\n",
    "lista_beta = []\n",
    "\n",
    "for i in x:\n",
    "    v1 = stats.gausshyper.cdf(i, a, b, c, z,loc1,scale1)\n",
    "    v2 = stats.beta.cdf(i, d, e, loc=loc2, scale=scale2)\n",
    "    \n",
    "    lista_guass.append(v1)\n",
    "    lista_beta.append(v2)\n",
    "\n",
    "\n",
    "plt.plot(p_rural,fra, '-', color='blue', label=\"Gauss\")\n",
    "plt.plot(x,lista_beta, '-', color='green', label=\"Gauss\")\n",
    "plt.plot(x,lista_guass, '-', color='red', label=\"Gauss\")\n",
    "\n"
   ]
  },
  {
   "cell_type": "markdown",
   "metadata": {},
   "source": [
    "___\n",
    "### Itens 10 e 11 - Resolução:"
   ]
  },
  {
   "cell_type": "code",
   "execution_count": 18,
   "metadata": {
    "collapsed": false
   },
   "outputs": [
    {
     "name": "stdout",
     "output_type": "stream",
     "text": [
      "Erro quadrático da gauss :0.329\n",
      "\n",
      "Erro quadrático da beta :9.404\n",
      "\n"
     ]
    }
   ],
   "source": [
    "#Erro quadrático\n",
    "\n",
    "erro_quadratico_Gauss = sum((p_rural - q_gauss)**2)\n",
    "erro_quadratico_beta = sum((p_rural - q_beta)**2)\n",
    "\n",
    "print(\"Erro quadrático da gauss :{:4.3f}\\n\".format(erro_quadratico_Gauss))\n",
    "print(\"Erro quadrático da beta :{:4.3f}\\n\".format(erro_quadratico_beta))"
   ]
  },
  {
   "cell_type": "code",
   "execution_count": null,
   "metadata": {
    "collapsed": true
   },
   "outputs": [],
   "source": []
  },
  {
   "cell_type": "code",
   "execution_count": 36,
   "metadata": {
    "collapsed": false
   },
   "outputs": [
    {
     "name": "stdout",
     "output_type": "stream",
     "text": [
      "53\n"
     ]
    },
    {
     "data": {
      "text/html": [
       "<div>\n",
       "<table border=\"1\" class=\"dataframe\">\n",
       "  <thead>\n",
       "    <tr style=\"text-align: right;\">\n",
       "      <th></th>\n",
       "      <th>gauss</th>\n",
       "      <th>beta</th>\n",
       "      <th>real</th>\n",
       "    </tr>\n",
       "  </thead>\n",
       "  <tbody>\n",
       "    <tr>\n",
       "      <th>0</th>\n",
       "      <td>1.677454</td>\n",
       "      <td>2.009460</td>\n",
       "      <td>2.020060</td>\n",
       "    </tr>\n",
       "    <tr>\n",
       "      <th>1</th>\n",
       "      <td>1.868309</td>\n",
       "      <td>2.027226</td>\n",
       "      <td>2.040820</td>\n",
       "    </tr>\n",
       "    <tr>\n",
       "      <th>2</th>\n",
       "      <td>1.992398</td>\n",
       "      <td>2.071804</td>\n",
       "      <td>2.070607</td>\n",
       "    </tr>\n",
       "    <tr>\n",
       "      <th>3</th>\n",
       "      <td>2.076555</td>\n",
       "      <td>2.120830</td>\n",
       "      <td>2.100061</td>\n",
       "    </tr>\n",
       "    <tr>\n",
       "      <th>4</th>\n",
       "      <td>2.144645</td>\n",
       "      <td>2.172267</td>\n",
       "      <td>2.135535</td>\n",
       "    </tr>\n",
       "    <tr>\n",
       "      <th>5</th>\n",
       "      <td>2.203411</td>\n",
       "      <td>2.225230</td>\n",
       "      <td>2.173555</td>\n",
       "    </tr>\n",
       "    <tr>\n",
       "      <th>6</th>\n",
       "      <td>2.255893</td>\n",
       "      <td>2.279202</td>\n",
       "      <td>2.210680</td>\n",
       "    </tr>\n",
       "    <tr>\n",
       "      <th>7</th>\n",
       "      <td>2.303768</td>\n",
       "      <td>2.333832</td>\n",
       "      <td>2.248414</td>\n",
       "    </tr>\n",
       "    <tr>\n",
       "      <th>8</th>\n",
       "      <td>2.348076</td>\n",
       "      <td>2.388864</td>\n",
       "      <td>2.288296</td>\n",
       "    </tr>\n",
       "    <tr>\n",
       "      <th>9</th>\n",
       "      <td>2.389515</td>\n",
       "      <td>2.444098</td>\n",
       "      <td>2.328911</td>\n",
       "    </tr>\n",
       "    <tr>\n",
       "      <th>10</th>\n",
       "      <td>2.428578</td>\n",
       "      <td>2.499373</td>\n",
       "      <td>2.370842</td>\n",
       "    </tr>\n",
       "    <tr>\n",
       "      <th>11</th>\n",
       "      <td>2.465630</td>\n",
       "      <td>2.554555</td>\n",
       "      <td>2.411197</td>\n",
       "    </tr>\n",
       "    <tr>\n",
       "      <th>12</th>\n",
       "      <td>2.500951</td>\n",
       "      <td>2.609530</td>\n",
       "      <td>2.449846</td>\n",
       "    </tr>\n",
       "    <tr>\n",
       "      <th>13</th>\n",
       "      <td>2.534759</td>\n",
       "      <td>2.664199</td>\n",
       "      <td>2.486817</td>\n",
       "    </tr>\n",
       "    <tr>\n",
       "      <th>14</th>\n",
       "      <td>2.567229</td>\n",
       "      <td>2.718474</td>\n",
       "      <td>2.524163</td>\n",
       "    </tr>\n",
       "    <tr>\n",
       "      <th>15</th>\n",
       "      <td>2.598504</td>\n",
       "      <td>2.772278</td>\n",
       "      <td>2.559228</td>\n",
       "    </tr>\n",
       "    <tr>\n",
       "      <th>16</th>\n",
       "      <td>2.628701</td>\n",
       "      <td>2.825540</td>\n",
       "      <td>2.593457</td>\n",
       "    </tr>\n",
       "    <tr>\n",
       "      <th>17</th>\n",
       "      <td>2.657920</td>\n",
       "      <td>2.878197</td>\n",
       "      <td>2.624828</td>\n",
       "    </tr>\n",
       "    <tr>\n",
       "      <th>18</th>\n",
       "      <td>2.686244</td>\n",
       "      <td>2.930188</td>\n",
       "      <td>2.653819</td>\n",
       "    </tr>\n",
       "    <tr>\n",
       "      <th>19</th>\n",
       "      <td>2.713745</td>\n",
       "      <td>2.981460</td>\n",
       "      <td>2.682358</td>\n",
       "    </tr>\n",
       "    <tr>\n",
       "      <th>20</th>\n",
       "      <td>2.740485</td>\n",
       "      <td>3.031962</td>\n",
       "      <td>2.710627</td>\n",
       "    </tr>\n",
       "    <tr>\n",
       "      <th>21</th>\n",
       "      <td>2.766518</td>\n",
       "      <td>3.081645</td>\n",
       "      <td>2.741804</td>\n",
       "    </tr>\n",
       "    <tr>\n",
       "      <th>22</th>\n",
       "      <td>2.791891</td>\n",
       "      <td>3.130465</td>\n",
       "      <td>2.774410</td>\n",
       "    </tr>\n",
       "    <tr>\n",
       "      <th>23</th>\n",
       "      <td>2.816645</td>\n",
       "      <td>3.178379</td>\n",
       "      <td>2.805858</td>\n",
       "    </tr>\n",
       "    <tr>\n",
       "      <th>24</th>\n",
       "      <td>2.840817</td>\n",
       "      <td>3.225347</td>\n",
       "      <td>2.837672</td>\n",
       "    </tr>\n",
       "    <tr>\n",
       "      <th>25</th>\n",
       "      <td>2.864440</td>\n",
       "      <td>3.271329</td>\n",
       "      <td>2.870333</td>\n",
       "    </tr>\n",
       "    <tr>\n",
       "      <th>26</th>\n",
       "      <td>2.887541</td>\n",
       "      <td>3.316288</td>\n",
       "      <td>2.904164</td>\n",
       "    </tr>\n",
       "    <tr>\n",
       "      <th>27</th>\n",
       "      <td>2.910148</td>\n",
       "      <td>3.360189</td>\n",
       "      <td>2.936921</td>\n",
       "    </tr>\n",
       "    <tr>\n",
       "      <th>28</th>\n",
       "      <td>2.932283</td>\n",
       "      <td>3.402995</td>\n",
       "      <td>2.970010</td>\n",
       "    </tr>\n",
       "    <tr>\n",
       "      <th>29</th>\n",
       "      <td>2.953966</td>\n",
       "      <td>3.444674</td>\n",
       "      <td>3.002568</td>\n",
       "    </tr>\n",
       "    <tr>\n",
       "      <th>30</th>\n",
       "      <td>2.975217</td>\n",
       "      <td>3.485193</td>\n",
       "      <td>3.032769</td>\n",
       "    </tr>\n",
       "    <tr>\n",
       "      <th>31</th>\n",
       "      <td>2.996053</td>\n",
       "      <td>3.524519</td>\n",
       "      <td>3.061615</td>\n",
       "    </tr>\n",
       "    <tr>\n",
       "      <th>32</th>\n",
       "      <td>3.016487</td>\n",
       "      <td>3.562619</td>\n",
       "      <td>3.089304</td>\n",
       "    </tr>\n",
       "    <tr>\n",
       "      <th>33</th>\n",
       "      <td>3.036533</td>\n",
       "      <td>3.599463</td>\n",
       "      <td>3.116169</td>\n",
       "    </tr>\n",
       "    <tr>\n",
       "      <th>34</th>\n",
       "      <td>3.056202</td>\n",
       "      <td>3.635020</td>\n",
       "      <td>3.142198</td>\n",
       "    </tr>\n",
       "    <tr>\n",
       "      <th>35</th>\n",
       "      <td>3.075506</td>\n",
       "      <td>3.669258</td>\n",
       "      <td>3.167411</td>\n",
       "    </tr>\n",
       "    <tr>\n",
       "      <th>36</th>\n",
       "      <td>3.094453</td>\n",
       "      <td>3.702146</td>\n",
       "      <td>3.191858</td>\n",
       "    </tr>\n",
       "    <tr>\n",
       "      <th>37</th>\n",
       "      <td>3.113050</td>\n",
       "      <td>3.733653</td>\n",
       "      <td>3.214991</td>\n",
       "    </tr>\n",
       "    <tr>\n",
       "      <th>38</th>\n",
       "      <td>3.131304</td>\n",
       "      <td>3.763747</td>\n",
       "      <td>3.236704</td>\n",
       "    </tr>\n",
       "    <tr>\n",
       "      <th>39</th>\n",
       "      <td>3.149220</td>\n",
       "      <td>3.792396</td>\n",
       "      <td>3.256747</td>\n",
       "    </tr>\n",
       "    <tr>\n",
       "      <th>40</th>\n",
       "      <td>3.166801</td>\n",
       "      <td>3.819567</td>\n",
       "      <td>3.271995</td>\n",
       "    </tr>\n",
       "    <tr>\n",
       "      <th>41</th>\n",
       "      <td>3.184048</td>\n",
       "      <td>3.845226</td>\n",
       "      <td>3.282963</td>\n",
       "    </tr>\n",
       "    <tr>\n",
       "      <th>42</th>\n",
       "      <td>3.200963</td>\n",
       "      <td>3.869338</td>\n",
       "      <td>3.292977</td>\n",
       "    </tr>\n",
       "    <tr>\n",
       "      <th>43</th>\n",
       "      <td>3.217543</td>\n",
       "      <td>3.891865</td>\n",
       "      <td>3.302120</td>\n",
       "    </tr>\n",
       "    <tr>\n",
       "      <th>44</th>\n",
       "      <td>3.233785</td>\n",
       "      <td>3.912768</td>\n",
       "      <td>3.310484</td>\n",
       "    </tr>\n",
       "    <tr>\n",
       "      <th>45</th>\n",
       "      <td>3.249681</td>\n",
       "      <td>3.932004</td>\n",
       "      <td>3.318740</td>\n",
       "    </tr>\n",
       "    <tr>\n",
       "      <th>46</th>\n",
       "      <td>3.265222</td>\n",
       "      <td>3.949528</td>\n",
       "      <td>3.326498</td>\n",
       "    </tr>\n",
       "    <tr>\n",
       "      <th>47</th>\n",
       "      <td>3.280390</td>\n",
       "      <td>3.965288</td>\n",
       "      <td>3.333704</td>\n",
       "    </tr>\n",
       "    <tr>\n",
       "      <th>48</th>\n",
       "      <td>3.295165</td>\n",
       "      <td>3.979226</td>\n",
       "      <td>3.340563</td>\n",
       "    </tr>\n",
       "    <tr>\n",
       "      <th>49</th>\n",
       "      <td>3.309514</td>\n",
       "      <td>3.991273</td>\n",
       "      <td>3.346928</td>\n",
       "    </tr>\n",
       "    <tr>\n",
       "      <th>50</th>\n",
       "      <td>3.323385</td>\n",
       "      <td>4.001348</td>\n",
       "      <td>3.353008</td>\n",
       "    </tr>\n",
       "    <tr>\n",
       "      <th>51</th>\n",
       "      <td>3.336698</td>\n",
       "      <td>4.009344</td>\n",
       "      <td>3.358735</td>\n",
       "    </tr>\n",
       "    <tr>\n",
       "      <th>52</th>\n",
       "      <td>3.349301</td>\n",
       "      <td>4.015111</td>\n",
       "      <td>3.365564</td>\n",
       "    </tr>\n",
       "  </tbody>\n",
       "</table>\n",
       "</div>"
      ],
      "text/plain": [
       "       gauss      beta      real\n",
       "0   1.677454  2.009460  2.020060\n",
       "1   1.868309  2.027226  2.040820\n",
       "2   1.992398  2.071804  2.070607\n",
       "3   2.076555  2.120830  2.100061\n",
       "4   2.144645  2.172267  2.135535\n",
       "5   2.203411  2.225230  2.173555\n",
       "6   2.255893  2.279202  2.210680\n",
       "7   2.303768  2.333832  2.248414\n",
       "8   2.348076  2.388864  2.288296\n",
       "9   2.389515  2.444098  2.328911\n",
       "10  2.428578  2.499373  2.370842\n",
       "11  2.465630  2.554555  2.411197\n",
       "12  2.500951  2.609530  2.449846\n",
       "13  2.534759  2.664199  2.486817\n",
       "14  2.567229  2.718474  2.524163\n",
       "15  2.598504  2.772278  2.559228\n",
       "16  2.628701  2.825540  2.593457\n",
       "17  2.657920  2.878197  2.624828\n",
       "18  2.686244  2.930188  2.653819\n",
       "19  2.713745  2.981460  2.682358\n",
       "20  2.740485  3.031962  2.710627\n",
       "21  2.766518  3.081645  2.741804\n",
       "22  2.791891  3.130465  2.774410\n",
       "23  2.816645  3.178379  2.805858\n",
       "24  2.840817  3.225347  2.837672\n",
       "25  2.864440  3.271329  2.870333\n",
       "26  2.887541  3.316288  2.904164\n",
       "27  2.910148  3.360189  2.936921\n",
       "28  2.932283  3.402995  2.970010\n",
       "29  2.953966  3.444674  3.002568\n",
       "30  2.975217  3.485193  3.032769\n",
       "31  2.996053  3.524519  3.061615\n",
       "32  3.016487  3.562619  3.089304\n",
       "33  3.036533  3.599463  3.116169\n",
       "34  3.056202  3.635020  3.142198\n",
       "35  3.075506  3.669258  3.167411\n",
       "36  3.094453  3.702146  3.191858\n",
       "37  3.113050  3.733653  3.214991\n",
       "38  3.131304  3.763747  3.236704\n",
       "39  3.149220  3.792396  3.256747\n",
       "40  3.166801  3.819567  3.271995\n",
       "41  3.184048  3.845226  3.282963\n",
       "42  3.200963  3.869338  3.292977\n",
       "43  3.217543  3.891865  3.302120\n",
       "44  3.233785  3.912768  3.310484\n",
       "45  3.249681  3.932004  3.318740\n",
       "46  3.265222  3.949528  3.326498\n",
       "47  3.280390  3.965288  3.333704\n",
       "48  3.295165  3.979226  3.340563\n",
       "49  3.309514  3.991273  3.346928\n",
       "50  3.323385  4.001348  3.353008\n",
       "51  3.336698  4.009344  3.358735\n",
       "52  3.349301  4.015111  3.365564"
      ]
     },
     "execution_count": 36,
     "metadata": {},
     "output_type": "execute_result"
    }
   ],
   "source": [
    "print(len(p_rural),)\n",
    "\n",
    "tabela = pd.DataFrame([q_gauss,q_beta,p_rural])\n",
    "tabela.index = ['gauss','beta','real']\n",
    "tabela.T\n"
   ]
  },
  {
   "cell_type": "markdown",
   "metadata": {},
   "source": [
    "### Conclusão:\n",
    "\n",
    "podemos ver que nesse caso a distribuição de Gaus é a melhor opção, apesar que nos primeiros pontos ela tem uma taxa de erro alta(principalmente se consideramos que a população esta em bilhões assim o erro pode passar de 250 millhoes), porem o erro diminue e se torna pequeno, tornando-se o melhor modelo para esse sistema como mostra o erro quadratico, que é 10 vezes menos que o erro de beta. O modelo beta consegue prever os primeiros dados com precisão, porem quanto maior é o \"x\" maior é o erro de beta."
   ]
  },
  {
   "cell_type": "code",
   "execution_count": null,
   "metadata": {
    "collapsed": true
   },
   "outputs": [],
   "source": []
  },
  {
   "cell_type": "code",
   "execution_count": null,
   "metadata": {
    "collapsed": true
   },
   "outputs": [],
   "source": []
  }
 ],
 "metadata": {
  "anaconda-cloud": {},
  "kernelspec": {
   "display_name": "Python 3",
   "language": "python",
   "name": "python3"
  },
  "language_info": {
   "codemirror_mode": {
    "name": "ipython",
    "version": 3
   },
   "file_extension": ".py",
   "mimetype": "text/x-python",
   "name": "python",
   "nbconvert_exporter": "python",
   "pygments_lexer": "ipython3",
   "version": "3.5.1"
  }
 },
 "nbformat": 4,
 "nbformat_minor": 0
}
