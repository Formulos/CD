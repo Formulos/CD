{
 "cells": [
  {
   "cell_type": "code",
   "execution_count": 8,
   "metadata": {
    "collapsed": false
   },
   "outputs": [
    {
     "name": "stdout",
     "output_type": "stream",
     "text": [
      "Esperamos trabalhar no diretório\n",
      "C:\\Users\\Paulo\\Documents\\GitHub\\CD\\Mini projeto 1\n"
     ]
    }
   ],
   "source": [
    "%matplotlib inline\n",
    "import pandas as pd\n",
    "import matplotlib.pyplot as plt\n",
    "import numpy as np\n",
    "import os\n",
    "from matplotlib import pyplot\n",
    "\n",
    "print('Esperamos trabalhar no diretório')\n",
    "print(os.getcwd())"
   ]
  },
  {
   "cell_type": "code",
   "execution_count": 9,
   "metadata": {
    "collapsed": false
   },
   "outputs": [],
   "source": [
    "dados = pd.read_excel(\"WDI-word.xlsx\")"
   ]
  },
  {
   "cell_type": "code",
   "execution_count": 41,
   "metadata": {
    "collapsed": false
   },
   "outputs": [
    {
     "data": {
      "text/plain": [
       "1960    3.06698\n",
       "1961    3.13795\n",
       "1962     3.2423\n",
       "1963    3.35864\n",
       "1964    3.43754\n",
       "1965    3.53649\n",
       "1966    3.57536\n",
       "1967    3.68184\n",
       "1968    3.82201\n",
       "1969    4.01325\n",
       "1970    4.07283\n",
       "1971    4.15658\n",
       "1972    4.29705\n",
       "1973      4.222\n",
       "1974    4.11854\n",
       "1975    4.28298\n",
       "1976    4.34941\n",
       "1977    4.32556\n",
       "1978    4.48731\n",
       "1979    4.36306\n",
       "1980    4.15609\n",
       "1981    4.05049\n",
       "1982    3.96379\n",
       "1983    4.03644\n",
       "1984    4.08617\n",
       "1985    4.13724\n",
       "1986    4.16577\n",
       "1987    4.24071\n",
       "1988    4.25799\n",
       "1989    4.20228\n",
       "1990    4.18573\n",
       "1991    4.07911\n",
       "1992    4.01381\n",
       "1993    4.02518\n",
       "1994    4.05095\n",
       "1995    4.08853\n",
       "1996    4.09696\n",
       "1997    4.07125\n",
       "1998    4.00854\n",
       "1999    4.05529\n",
       "2000    4.10109\n",
       "2001    4.08618\n",
       "2002    4.27357\n",
       "2003    4.43659\n",
       "2004    4.54634\n",
       "2005    4.65025\n",
       "2006    4.68658\n",
       "2007    4.74225\n",
       "2008    4.66352\n",
       "2009    4.84083\n",
       "2010    4.94505\n",
       "Name: 204, dtype: object"
      ]
     },
     "execution_count": 41,
     "metadata": {},
     "output_type": "execute_result"
    }
   ],
   "source": [
    "co2_mtp = dados.iloc[204,4:55]\n",
    "co2_mtp"
   ]
  },
  {
   "cell_type": "code",
   "execution_count": 51,
   "metadata": {
    "collapsed": false
   },
   "outputs": [
    {
     "data": {
      "image/png": "[encoded data removed]",
      "text/plain": [
       "<matplotlib.figure.Figure at 0x127315c0>"
      ]
     },
     "metadata": {},
     "output_type": "display_data"
    }
   ],
   "source": [
    "faixa =  np.arange(3,5,0.2)\n",
    "\n",
    "plot = co2_mtp.plot.hist(bins=faixa,color = \"blue\",label = 'mas',alpha=0.5)"
   ]
  },
  {
   "cell_type": "code",
   "execution_count": null,
   "metadata": {
    "collapsed": true
   },
   "outputs": [],
   "source": []
  }
 ],
 "metadata": {
  "kernelspec": {
   "display_name": "Python 3",
   "language": "python",
   "name": "python3"
  },
  "language_info": {
   "codemirror_mode": {
    "name": "ipython",
    "version": 3
   },
   "file_extension": ".py",
   "mimetype": "text/x-python",
   "name": "python",
   "nbconvert_exporter": "python",
   "pygments_lexer": "ipython3",
   "version": "3.5.1"
  }
 },
 "nbformat": 4,
 "nbformat_minor": 0
}
