{
 "cells": [
  {
   "cell_type": "markdown",
   "metadata": {},
   "source": [
    "___\n",
    "# MINIPROJETO 2"
   ]
  },
  {
   "cell_type": "markdown",
   "metadata": {},
   "source": [
    "## <font color='red'>Paulo Tozzo Ponciano</font>\n",
    "___"
   ]
  },
  {
   "cell_type": "code",
   "execution_count": 1,
   "metadata": {
    "collapsed": false
   },
   "outputs": [],
   "source": [
    "%matplotlib inline\n",
    "import pandas as pd\n",
    "import matplotlib.pyplot as plt\n",
    "import numpy as np\n",
    "from scipy import stats\n",
    "import itertools"
   ]
  },
  {
   "cell_type": "code",
   "execution_count": 2,
   "metadata": {
    "collapsed": false
   },
   "outputs": [
    {
     "name": "stdout",
     "output_type": "stream",
     "text": [
      "1.0043567282\n",
      "1.01842913321\n"
     ]
    }
   ],
   "source": [
    "#1a\n",
    "# usaremos exponencial\n",
    "\n",
    "# 1b\n",
    "\n",
    "destribuição_aleatoria_teorica = stats.expon.rvs(loc=0, scale=1, size=10000, random_state=None)\n",
    "da = destribuição_aleatoria_teorica\n",
    "\n",
    "#1c\n",
    "print(np.mean(da))\n",
    "print(np.var(da))"
   ]
  },
  {
   "cell_type": "code",
   "execution_count": 3,
   "metadata": {
    "collapsed": false
   },
   "outputs": [
    {
     "name": "stdout",
     "output_type": "stream",
     "text": [
      "0.243721919119\n",
      "media:  0.998382225548 mediana:  0.837737120455\n"
     ]
    },
    {
     "data": {
      "image/png": "[encoded data removed]",
      "text/plain": [
       "<matplotlib.figure.Figure at 0x15551aa1748>"
      ]
     },
     "metadata": {},
     "output_type": "display_data"
    }
   ],
   "source": [
    "def tlc(n,amostra_aleatoria = False):\n",
    "    X1 = []\n",
    "    X9 = []\n",
    "    medias = [] # 2d \n",
    "    for i in range (10000): #2d\n",
    "        l2 = np.random.choice(da,size=n,replace=False) #2b\n",
    "        \n",
    "        if n > 9:\n",
    "            X1.append(l2[0])\n",
    "            X9.append(l2[8])\n",
    "        \n",
    "        x = np.mean(l2)\n",
    "        medias.append(x) #2c\n",
    "        \n",
    "    if amostra_aleatoria != False :\n",
    "        return X1,X9\n",
    "        \n",
    "    print(x)\n",
    "    print('media: ',np.mean(medias),\"mediana: \",np.median(medias))\n",
    "    plt.hist(medias,normed=1) #2e\n",
    "    medias_medias = np.mean(medias)\n",
    "    medias_var = np.var(medias)\n",
    "    \n",
    "\n",
    "\n",
    "tlc(2)\n"
   ]
  },
  {
   "cell_type": "markdown",
   "metadata": {
    "collapsed": true
   },
   "source": [
    "como o n é pequeno o grafico não se aproxima de uma normal"
   ]
  },
  {
   "cell_type": "code",
   "execution_count": 4,
   "metadata": {
    "collapsed": false
   },
   "outputs": [
    {
     "name": "stdout",
     "output_type": "stream",
     "text": [
      "1.21425011648\n",
      "media:  1.00564326282 mediana:  0.921363955824\n"
     ]
    },
    {
     "data": {
      "image/png": "[encoded data removed]",
      "text/plain": [
       "<matplotlib.figure.Figure at 0x1555136cf98>"
      ]
     },
     "metadata": {},
     "output_type": "display_data"
    }
   ],
   "source": [
    "tlc(4)"
   ]
  },
  {
   "cell_type": "code",
   "execution_count": 5,
   "metadata": {
    "collapsed": false
   },
   "outputs": [
    {
     "name": "stdout",
     "output_type": "stream",
     "text": [
      "1.32551919076\n",
      "media:  1.00652259524 mediana:  0.990917563357\n"
     ]
    },
    {
     "data": {
      "image/png": "[encoded data removed]",
      "text/plain": [
       "<matplotlib.figure.Figure at 0x155523c5dd8>"
      ]
     },
     "metadata": {},
     "output_type": "display_data"
    }
   ],
   "source": [
    "tlc(20)"
   ]
  },
  {
   "cell_type": "code",
   "execution_count": 9,
   "metadata": {
    "collapsed": false
   },
   "outputs": [],
   "source": [
    "X1,X9 = tlc(50,True)"
   ]
  },
  {
   "cell_type": "markdown",
   "metadata": {},
   "source": [
    "como foi mostrado mesmo não escolhendo uma função que gera um grafico parecido com uma normal, se o \"n\" for muito muito grande como mostramos a função fica parecida com uma normal"
   ]
  },
  {
   "cell_type": "code",
   "execution_count": 10,
   "metadata": {
    "collapsed": false
   },
   "outputs": [
    {
     "name": "stdout",
     "output_type": "stream",
     "text": [
      "\n"
     ]
    },
    {
     "data": {
      "image/png": "[encoded data removed]",
      "text/plain": [
       "<matplotlib.figure.Figure at 0x155536352b0>"
      ]
     },
     "metadata": {},
     "output_type": "display_data"
    }
   ],
   "source": [
    "plt.hist(X1,normed=1)\n",
    "print('')"
   ]
  },
  {
   "cell_type": "code",
   "execution_count": 11,
   "metadata": {
    "collapsed": false
   },
   "outputs": [
    {
     "name": "stdout",
     "output_type": "stream",
     "text": [
      "\n"
     ]
    },
    {
     "data": {
      "image/png": "[encoded data removed]",
      "text/plain": [
       "<matplotlib.figure.Figure at 0x15553738160>"
      ]
     },
     "metadata": {},
     "output_type": "display_data"
    }
   ],
   "source": [
    "plt.hist(X9,normed=1)\n",
    "print('')"
   ]
  },
  {
   "cell_type": "code",
   "execution_count": 18,
   "metadata": {
    "collapsed": false
   },
   "outputs": [
    {
     "name": "stdout",
     "output_type": "stream",
     "text": [
      "-0.0151067795036\n"
     ]
    }
   ],
   "source": [
    "cv = 0\n",
    "for i in range(10000):\n",
    "    cov = ((X1[i]-np.mean(X1))*(X9[i]-np.mean(X9)))\n",
    "    cv += cov\n",
    "    c = cv/10000\n",
    "print(c)           "
   ]
  },
  {
   "cell_type": "code",
   "execution_count": null,
   "metadata": {
    "collapsed": true
   },
   "outputs": [],
   "source": []
  }
 ],
 "metadata": {
  "kernelspec": {
   "display_name": "Python 3",
   "language": "python",
   "name": "python3"
  },
  "language_info": {
   "codemirror_mode": {
    "name": "ipython",
    "version": 3
   },
   "file_extension": ".py",
   "mimetype": "text/x-python",
   "name": "python",
   "nbconvert_exporter": "python",
   "pygments_lexer": "ipython3",
   "version": "3.5.1"
  }
 },
 "nbformat": 4,
 "nbformat_minor": 0
}
