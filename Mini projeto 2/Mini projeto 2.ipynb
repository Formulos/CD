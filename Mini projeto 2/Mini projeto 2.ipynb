{
 "cells": [
  {
   "cell_type": "markdown",
   "metadata": {},
   "source": [
    "___\n",
    "# MINIPROJETO 2"
   ]
  },
  {
   "cell_type": "markdown",
   "metadata": {},
   "source": [
    "## <font color='red'>Paulo Tozzo Ponciano</font>\n",
    "___"
   ]
  },
  {
   "cell_type": "code",
   "execution_count": 1,
   "metadata": {
    "collapsed": false
   },
   "outputs": [],
   "source": [
    "%matplotlib inline\n",
    "import pandas as pd\n",
    "import matplotlib.pyplot as plt\n",
    "import numpy as np\n",
    "from scipy import stats\n",
    "import itertools"
   ]
  },
  {
   "cell_type": "code",
   "execution_count": 2,
   "metadata": {
    "collapsed": false
   },
   "outputs": [
    {
     "name": "stdout",
     "output_type": "stream",
     "text": [
      "0.987061138986\n",
      "0.951067425513\n"
     ]
    }
   ],
   "source": [
    "#1a\n",
    "# usaremos exponencial\n",
    "\n",
    "# 1b\n",
    "tamanho=10000\n",
    "\n",
    "destribuição_aleatoria_teorica = stats.expon.rvs(loc=0, scale=1, size=tamanho, random_state=None)\n",
    "da = destribuição_aleatoria_teorica\n",
    "\n",
    "#1c\n",
    "print(np.mean(da))\n",
    "print(np.var(da))"
   ]
  },
  {
   "cell_type": "code",
   "execution_count": 3,
   "metadata": {
    "collapsed": false
   },
   "outputs": [
    {
     "name": "stdout",
     "output_type": "stream",
     "text": [
      "2.47378719911\n",
      "media:  0.992757077537 mediana:  0.836027629072\n"
     ]
    },
    {
     "data": {
      "image/png": "[encoded data removed]",
      "text/plain": [
       "<matplotlib.figure.Figure at 0x234a9c45a20>"
      ]
     },
     "metadata": {},
     "output_type": "display_data"
    }
   ],
   "source": [
    "def tlc(n,tamanho,amostra_aleatoria = False):\n",
    "    X1 = []\n",
    "    X9 = []\n",
    "    medias = [] # 2d \n",
    "    for i in range (tamanho): #2d\n",
    "        l2 = np.random.choice(da,size=n,replace=False) #2b\n",
    "        \n",
    "        if amostra_aleatoria != False and n > 9:\n",
    "            X1.append(l2[0])\n",
    "            X9.append(l2[8])\n",
    "        \n",
    "        x = np.mean(l2)\n",
    "        medias.append(x) #2c\n",
    "        \n",
    "\n",
    "        \n",
    "    print(x)\n",
    "    print('media: ',np.mean(medias),\"mediana: \",np.median(medias))\n",
    "    plt.hist(medias,normed=1) #2e\n",
    "    medias_medias = np.mean(medias)\n",
    "    medias_var = np.var(medias)\n",
    "    \n",
    "    if amostra_aleatoria != False and n>9 :\n",
    "        return X1,X9\n",
    "    \n",
    "\n",
    "\n",
    "tlc(2,tamanho)\n"
   ]
  },
  {
   "cell_type": "markdown",
   "metadata": {
    "collapsed": true
   },
   "source": [
    "como o n é pequeno o grafico não se aproxima de uma normal"
   ]
  },
  {
   "cell_type": "code",
   "execution_count": 4,
   "metadata": {
    "collapsed": false
   },
   "outputs": [
    {
     "name": "stdout",
     "output_type": "stream",
     "text": [
      "0.579053614135\n",
      "media:  1.00089242101 mediana:  0.91958432452\n"
     ]
    },
    {
     "data": {
      "image/png": "[encoded data removed]",
      "text/plain": [
       "<matplotlib.figure.Figure at 0x234a874f9e8>"
      ]
     },
     "metadata": {},
     "output_type": "display_data"
    }
   ],
   "source": [
    "tlc(4,tamanho)"
   ]
  },
  {
   "cell_type": "code",
   "execution_count": 5,
   "metadata": {
    "collapsed": false
   },
   "outputs": [
    {
     "name": "stdout",
     "output_type": "stream",
     "text": [
      "1.44623480532\n",
      "media:  0.987965562038 mediana:  0.974797689192\n"
     ]
    },
    {
     "data": {
      "image/png": "[encoded data removed]",
      "text/plain": [
       "<matplotlib.figure.Figure at 0x234aa543550>"
      ]
     },
     "metadata": {},
     "output_type": "display_data"
    }
   ],
   "source": [
    "tlc(20,tamanho)"
   ]
  },
  {
   "cell_type": "code",
   "execution_count": 6,
   "metadata": {
    "collapsed": false
   },
   "outputs": [
    {
     "name": "stdout",
     "output_type": "stream",
     "text": [
      "0.954690709724\n",
      "media:  0.984898798938 mediana:  0.97802539368\n"
     ]
    },
    {
     "data": {
      "image/png": "[encoded data removed]",
      "text/plain": [
       "<matplotlib.figure.Figure at 0x234a9d9f550>"
      ]
     },
     "metadata": {},
     "output_type": "display_data"
    }
   ],
   "source": [
    "X1,X9 = tlc(50,tamanho,True)"
   ]
  },
  {
   "cell_type": "markdown",
   "metadata": {},
   "source": [
    "como foi mostrado mesmo não escolhendo uma função que gera um grafico parecido com uma normal, se o \"n\" for muito muito grande como mostramos a função fica parecida com uma normal"
   ]
  },
  {
   "cell_type": "code",
   "execution_count": 15,
   "metadata": {
    "collapsed": false
   },
   "outputs": [
    {
     "name": "stdout",
     "output_type": "stream",
     "text": [
      "\n"
     ]
    },
    {
     "data": {
      "image/png": "[encoded data removed]",
      "text/plain": [
       "<matplotlib.figure.Figure at 0x234ab6f15f8>"
      ]
     },
     "metadata": {},
     "output_type": "display_data"
    }
   ],
   "source": [
    "plt.hist(X1,normed=1)\n",
    "print( )"
   ]
  },
  {
   "cell_type": "code",
   "execution_count": 8,
   "metadata": {
    "collapsed": false
   },
   "outputs": [
    {
     "name": "stdout",
     "output_type": "stream",
     "text": [
      "\n"
     ]
    },
    {
     "data": {
      "image/png": "[encoded data removed]",
      "text/plain": [
       "<matplotlib.figure.Figure at 0x234ab79c908>"
      ]
     },
     "metadata": {},
     "output_type": "display_data"
    }
   ],
   "source": [
    "plt.hist(X9,normed=1)\n",
    "print()"
   ]
  },
  {
   "cell_type": "code",
   "execution_count": 11,
   "metadata": {
    "collapsed": false
   },
   "outputs": [
    {
     "name": "stdout",
     "output_type": "stream",
     "text": [
      "0.00895184669722\n"
     ]
    }
   ],
   "source": [
    "cv = 0\n",
    "for i in range(tamanho):\n",
    "    cov = ((X1[i]-np.mean(X1))*(X9[i]-np.mean(X9)))\n",
    "    cv += cov\n",
    "    c = cv/tamanho\n",
    "print(c)           "
   ]
  },
  {
   "cell_type": "code",
   "execution_count": 10,
   "metadata": {
    "collapsed": false
   },
   "outputs": [
    {
     "name": "stdout",
     "output_type": "stream",
     "text": [
      "1.0279\n",
      "0.00018629\n",
      "0.0136488094719\n"
     ]
    }
   ],
   "source": [
    "lista = [1.022,1.025,1.023,1.019,1.032,1.035,1.054,1.015,1.047,1.007]\n",
    "\n",
    "print(np.mean(lista))\n",
    "print(np.var(lista))\n",
    "print(np.std(lista))\n"
   ]
  },
  {
   "cell_type": "code",
   "execution_count": null,
   "metadata": {
    "collapsed": true
   },
   "outputs": [],
   "source": []
  }
 ],
 "metadata": {
  "kernelspec": {
   "display_name": "Python 3",
   "language": "python",
   "name": "python3"
  },
  "language_info": {
   "codemirror_mode": {
    "name": "ipython",
    "version": 3
   },
   "file_extension": ".py",
   "mimetype": "text/x-python",
   "name": "python",
   "nbconvert_exporter": "python",
   "pygments_lexer": "ipython3",
   "version": "3.5.1"
  }
 },
 "nbformat": 4,
 "nbformat_minor": 0
}
