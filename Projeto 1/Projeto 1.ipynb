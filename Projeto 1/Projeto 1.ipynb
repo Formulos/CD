{
 "cells": [
  {
   "cell_type": "code",
   "execution_count": 1,
   "metadata": {
    "collapsed": true
   },
   "outputs": [],
   "source": [
    "%matplotlib inline\n",
    "import pandas as pd\n",
    "import matplotlib.pyplot as plt\n",
    "import numpy as np\n",
    "import os\n",
    "from matplotlib import pyplot"
   ]
  },
  {
   "cell_type": "code",
   "execution_count": 2,
   "metadata": {
    "collapsed": false,
    "scrolled": true
   },
   "outputs": [
    {
     "name": "stdout",
     "output_type": "stream",
     "text": [
      "Esperamos trabalhar no diretório\n",
      "C:\\Users\\Paulo\\Documents\\GitHub\\CD\\Projeto 1\n"
     ]
    }
   ],
   "source": [
    "print('Esperamos trabalhar no diretório')\n",
    "print(os.getcwd())"
   ]
  },
  {
   "cell_type": "code",
   "execution_count": 3,
   "metadata": {
    "collapsed": false
   },
   "outputs": [],
   "source": [
    "dados = pd.read_csv(\"PES2014.csv\", sep=\",\")"
   ]
  },
  {
   "cell_type": "code",
   "execution_count": 4,
   "metadata": {
    "collapsed": false
   },
   "outputs": [
    {
     "data": {
      "text/html": [
       "<div>\n",
       "<table border=\"1\" class=\"dataframe\">\n",
       "  <thead>\n",
       "    <tr style=\"text-align: right;\">\n",
       "      <th></th>\n",
       "      <th>Unnamed: 0</th>\n",
       "      <th>V0101</th>\n",
       "      <th>UF</th>\n",
       "      <th>V0102</th>\n",
       "      <th>V0103</th>\n",
       "      <th>V0301</th>\n",
       "      <th>V0302</th>\n",
       "      <th>V3031</th>\n",
       "      <th>V3032</th>\n",
       "      <th>V3033</th>\n",
       "      <th>...</th>\n",
       "      <th>V4741</th>\n",
       "      <th>V4742</th>\n",
       "      <th>V4743</th>\n",
       "      <th>V4745</th>\n",
       "      <th>V4746</th>\n",
       "      <th>V4747</th>\n",
       "      <th>V4748</th>\n",
       "      <th>V4749</th>\n",
       "      <th>V4750</th>\n",
       "      <th>V9993</th>\n",
       "    </tr>\n",
       "  </thead>\n",
       "  <tbody>\n",
       "    <tr>\n",
       "      <th>0</th>\n",
       "      <td>0</td>\n",
       "      <td>2014</td>\n",
       "      <td>11</td>\n",
       "      <td>15</td>\n",
       "      <td>1</td>\n",
       "      <td>1</td>\n",
       "      <td>2</td>\n",
       "      <td>19</td>\n",
       "      <td>8</td>\n",
       "      <td>1987</td>\n",
       "      <td>...</td>\n",
       "      <td>3.0</td>\n",
       "      <td>500.0</td>\n",
       "      <td>3.0</td>\n",
       "      <td>3</td>\n",
       "      <td>1.0</td>\n",
       "      <td>2.0</td>\n",
       "      <td>2.0</td>\n",
       "      <td>1.0</td>\n",
       "      <td>500.0</td>\n",
       "      <td>20160623</td>\n",
       "    </tr>\n",
       "    <tr>\n",
       "      <th>1</th>\n",
       "      <td>1</td>\n",
       "      <td>2014</td>\n",
       "      <td>11</td>\n",
       "      <td>15</td>\n",
       "      <td>1</td>\n",
       "      <td>2</td>\n",
       "      <td>4</td>\n",
       "      <td>19</td>\n",
       "      <td>1</td>\n",
       "      <td>1986</td>\n",
       "      <td>...</td>\n",
       "      <td>3.0</td>\n",
       "      <td>500.0</td>\n",
       "      <td>3.0</td>\n",
       "      <td>4</td>\n",
       "      <td>2.0</td>\n",
       "      <td>NaN</td>\n",
       "      <td>2.0</td>\n",
       "      <td>1.0</td>\n",
       "      <td>500.0</td>\n",
       "      <td>20160623</td>\n",
       "    </tr>\n",
       "    <tr>\n",
       "      <th>2</th>\n",
       "      <td>2</td>\n",
       "      <td>2014</td>\n",
       "      <td>11</td>\n",
       "      <td>15</td>\n",
       "      <td>1</td>\n",
       "      <td>3</td>\n",
       "      <td>2</td>\n",
       "      <td>14</td>\n",
       "      <td>5</td>\n",
       "      <td>2013</td>\n",
       "      <td>...</td>\n",
       "      <td>3.0</td>\n",
       "      <td>500.0</td>\n",
       "      <td>3.0</td>\n",
       "      <td>1</td>\n",
       "      <td>NaN</td>\n",
       "      <td>NaN</td>\n",
       "      <td>NaN</td>\n",
       "      <td>NaN</td>\n",
       "      <td>500.0</td>\n",
       "      <td>20160623</td>\n",
       "    </tr>\n",
       "    <tr>\n",
       "      <th>3</th>\n",
       "      <td>3</td>\n",
       "      <td>2014</td>\n",
       "      <td>11</td>\n",
       "      <td>15</td>\n",
       "      <td>2</td>\n",
       "      <td>1</td>\n",
       "      <td>2</td>\n",
       "      <td>8</td>\n",
       "      <td>4</td>\n",
       "      <td>1963</td>\n",
       "      <td>...</td>\n",
       "      <td>2.0</td>\n",
       "      <td>1150.0</td>\n",
       "      <td>4.0</td>\n",
       "      <td>2</td>\n",
       "      <td>1.0</td>\n",
       "      <td>2.0</td>\n",
       "      <td>2.0</td>\n",
       "      <td>1.0</td>\n",
       "      <td>1150.0</td>\n",
       "      <td>20160623</td>\n",
       "    </tr>\n",
       "    <tr>\n",
       "      <th>4</th>\n",
       "      <td>4</td>\n",
       "      <td>2014</td>\n",
       "      <td>11</td>\n",
       "      <td>15</td>\n",
       "      <td>2</td>\n",
       "      <td>2</td>\n",
       "      <td>4</td>\n",
       "      <td>6</td>\n",
       "      <td>11</td>\n",
       "      <td>1970</td>\n",
       "      <td>...</td>\n",
       "      <td>2.0</td>\n",
       "      <td>1150.0</td>\n",
       "      <td>4.0</td>\n",
       "      <td>3</td>\n",
       "      <td>1.0</td>\n",
       "      <td>2.0</td>\n",
       "      <td>2.0</td>\n",
       "      <td>1.0</td>\n",
       "      <td>1150.0</td>\n",
       "      <td>20160623</td>\n",
       "    </tr>\n",
       "  </tbody>\n",
       "</table>\n",
       "<p>5 rows × 342 columns</p>\n",
       "</div>"
      ],
      "text/plain": [
       "   Unnamed: 0  V0101  UF  V0102  V0103  V0301  V0302  V3031  V3032  V3033  \\\n",
       "0           0   2014  11     15      1      1      2     19      8   1987   \n",
       "1           1   2014  11     15      1      2      4     19      1   1986   \n",
       "2           2   2014  11     15      1      3      2     14      5   2013   \n",
       "3           3   2014  11     15      2      1      2      8      4   1963   \n",
       "4           4   2014  11     15      2      2      4      6     11   1970   \n",
       "\n",
       "     ...     V4741   V4742  V4743  V4745  V4746  V4747  V4748  V4749   V4750  \\\n",
       "0    ...       3.0   500.0    3.0      3    1.0    2.0    2.0    1.0   500.0   \n",
       "1    ...       3.0   500.0    3.0      4    2.0    NaN    2.0    1.0   500.0   \n",
       "2    ...       3.0   500.0    3.0      1    NaN    NaN    NaN    NaN   500.0   \n",
       "3    ...       2.0  1150.0    4.0      2    1.0    2.0    2.0    1.0  1150.0   \n",
       "4    ...       2.0  1150.0    4.0      3    1.0    2.0    2.0    1.0  1150.0   \n",
       "\n",
       "      V9993  \n",
       "0  20160623  \n",
       "1  20160623  \n",
       "2  20160623  \n",
       "3  20160623  \n",
       "4  20160623  \n",
       "\n",
       "[5 rows x 342 columns]"
      ]
     },
     "execution_count": 4,
     "metadata": {},
     "output_type": "execute_result"
    }
   ],
   "source": [
    "dados.head()"
   ]
  },
  {
   "cell_type": "code",
   "execution_count": 5,
   "metadata": {
    "collapsed": false
   },
   "outputs": [
    {
     "data": {
      "text/plain": [
       "'\\ndados:\\n\\nV6007 = Curso mais elevado que frequentou anteriormente\\nV4728 = area urbana,rural\\n\\ndados = dados[dados.renda < 100000]\\ndados = dados[~ dados.x.isnull()] tira todos os null de x\\n\\n'"
      ]
     },
     "execution_count": 5,
     "metadata": {},
     "output_type": "execute_result"
    }
   ],
   "source": [
    "\n",
    "\n",
    "\"\"\"\n",
    "dados:\n",
    "\n",
    "V6007 = Curso mais elevado que frequentou anteriormente\n",
    "V4728 = area urbana,rural\n",
    "\n",
    "dados = dados[dados.renda < 100000]\n",
    "dados = dados[~ dados.x.isnull()] tira todos os null de x\n",
    "\n",
    "\"\"\"\n"
   ]
  },
  {
   "cell_type": "code",
   "execution_count": 6,
   "metadata": {
    "collapsed": false
   },
   "outputs": [],
   "source": [
    "dados.estado = dados.iloc[:,2]\n",
    "dados.aposentados = dados.V9122.astype('category') #2 sim, 4 não\n",
    "dados.sexo = dados.V0302.astype('category') #2 mas, 4 fem\n",
    "dados.curso = dados.V6007.astype('category')\n",
    "dados.idade = dados.V8005.astype('float')\n",
    "dados.anos_estudo = dados.V4803.astype('float')\n",
    "\n",
    "\n",
    "\n",
    "dados.renda = dados.V1022.astype('float')\n",
    "dados.renda = dados.renda[dados.renda < 500000]\n",
    "\n",
    "dados.aposentados2 = dados.aposentados == 2"
   ]
  },
  {
   "cell_type": "code",
   "execution_count": 7,
   "metadata": {
    "collapsed": false
   },
   "outputs": [
    {
     "data": {
      "text/plain": [
       "'\\n\\ndados.regiao = dados.V4728.astype(\\'category\\')\\n\\ndados[\"zona\"] = dados.regiao\\n\\ndados.zona[(dados.regiao == 1 )| (dados.regiao == 2 )| (dados.regiao == 3 )| (dados.regiao == 35)] = \\'Urbano\\'\\ndados.zona[(dados.regiao == 4 )| (dados.regiao == 5 )| (dados.regiao == 6 )| (dados.regiao == 7) | (dados.regiao == 8)] = \\'Rural\\'\\n'"
      ]
     },
     "execution_count": 7,
     "metadata": {},
     "output_type": "execute_result"
    }
   ],
   "source": [
    "\n",
    "\"\"\"\n",
    "\n",
    "dados.regiao = dados.V4728.astype('category')\n",
    "\n",
    "dados[\"zona\"] = dados.regiao\n",
    "\n",
    "dados.zona[(dados.regiao == 1 )| (dados.regiao == 2 )| (dados.regiao == 3 )| (dados.regiao == 35)] = 'Urbano'\n",
    "dados.zona[(dados.regiao == 4 )| (dados.regiao == 5 )| (dados.regiao == 6 )| (dados.regiao == 7) | (dados.regiao == 8)] = 'Rural'\n",
    "\"\"\""
   ]
  },
  {
   "cell_type": "markdown",
   "metadata": {
    "collapsed": false
   },
   "source": [
    "nesse projeto iremos apresentar as diferenças entre os aposentas masculinos e os femininos,principalmente as diferenças economicas."
   ]
  },
  {
   "cell_type": "code",
   "execution_count": 8,
   "metadata": {
    "collapsed": false
   },
   "outputs": [
    {
     "data": {
      "text/plain": [
       "(700, 800]      120.0\n",
       "(0, 100]        104.0\n",
       "(200, 300]       94.0\n",
       "(100, 200]       89.0\n",
       "(900, 1000]      68.0\n",
       "(300, 400]       57.0\n",
       "(400, 500]       52.0\n",
       "(1400, 1500]     47.0\n",
       "(1100, 1200]     42.0\n",
       "(1900, 2000]     36.0\n",
       "(800, 900]       26.0\n",
       "(600, 700]       26.0\n",
       "(2400, 2500]     21.0\n",
       "(1000, 1100]     16.0\n",
       "(500, 600]       16.0\n",
       "(1500, 1600]     10.0\n",
       "(1300, 1400]     10.0\n",
       "(2300, 2400]      5.0\n",
       "(2200, 2300]      5.0\n",
       "(2000, 2100]      5.0\n",
       "(1200, 1300]      5.0\n",
       "(2700, 2800]      5.0\n",
       "(1600, 1700]      5.0\n",
       "(2800, 2900]      5.0\n",
       "(2100, 2200]      0.0\n",
       "(1700, 1800]      0.0\n",
       "(1800, 1900]      0.0\n",
       "(2500, 2600]      0.0\n",
       "(2600, 2700]      0.0\n",
       "dtype: float64"
      ]
     },
     "execution_count": 8,
     "metadata": {},
     "output_type": "execute_result"
    }
   ],
   "source": [
    "k = 110/10\n",
    "a = (109.0 - 0) / k\n",
    "#print(k)\n",
    "dados.renda.mas = dados.renda[dados.sexo == 2]\n",
    "dados.renda.fem = dados.renda[dados.sexo == 4]\n",
    "\n",
    "\n",
    "faixa_r =  np.arange(0,3000,100)\n",
    "#print(len(faixa))\n",
    "\n",
    "variável_renda_mas= pd.cut(dados.renda.mas, faixa_r)\n",
    "variável_renda_fem= pd.cut(dados.renda.fem, faixa_r)\n",
    "\n",
    "x = variável_renda_mas.value_counts(True)*1000\n",
    "\n",
    "x.round(decimals=0)\n",
    "\n",
    "x = variável_renda_fem.value_counts(True)*1000\n",
    "\n",
    "x.round(decimals=0)"
   ]
  },
  {
   "cell_type": "code",
   "execution_count": 9,
   "metadata": {
    "collapsed": false
   },
   "outputs": [
    {
     "data": {
      "text/plain": [
       "<matplotlib.legend.Legend at 0x9a76cc0>"
      ]
     },
     "execution_count": 9,
     "metadata": {},
     "output_type": "execute_result"
    },
    {
     "data": {
      "image/png": "[encoded data removed]",
      "text/plain": [
       "<matplotlib.figure.Figure at 0x9a76a90>"
      ]
     },
     "metadata": {},
     "output_type": "display_data"
    }
   ],
   "source": [
    "\n",
    "\n",
    "plot = dados.renda.fem.plot.hist(bins=faixa_r,color = \"green\",label = 'fem',alpha=0.5)\n",
    "plot = dados.renda.mas.plot.hist(bins=faixa_r,color = \"blue\",label = 'mas',alpha=0.5)\n",
    "\n",
    "pyplot.legend(loc='upper right')"
   ]
  },
  {
   "cell_type": "code",
   "execution_count": 10,
   "metadata": {
    "collapsed": false
   },
   "outputs": [
    {
     "name": "stdout",
     "output_type": "stream",
     "text": [
      "760.0\n",
      "1000.0\n"
     ]
    }
   ],
   "source": [
    "print(dados.renda.fem.median())\n",
    "print(dados.renda.mas.median())"
   ]
  },
  {
   "cell_type": "code",
   "execution_count": 11,
   "metadata": {
    "collapsed": false
   },
   "outputs": [
    {
     "data": {
      "text/html": [
       "<div>\n",
       "<table border=\"1\" class=\"dataframe\">\n",
       "  <thead>\n",
       "    <tr style=\"text-align: right;\">\n",
       "      <th></th>\n",
       "      <th>masculino</th>\n",
       "      <th>feminino</th>\n",
       "      <th>All</th>\n",
       "    </tr>\n",
       "  </thead>\n",
       "  <tbody>\n",
       "    <tr>\n",
       "      <th>Elementar (primário)</th>\n",
       "      <td>7521</td>\n",
       "      <td>7292</td>\n",
       "      <td>30971</td>\n",
       "    </tr>\n",
       "    <tr>\n",
       "      <th>Médio 1º ciclo (ginasial, etc.)</th>\n",
       "      <td>1458</td>\n",
       "      <td>1250</td>\n",
       "      <td>6114</td>\n",
       "    </tr>\n",
       "    <tr>\n",
       "      <th>Médio 2º ciclo (científico, clássico, etc.)</th>\n",
       "      <td>1038</td>\n",
       "      <td>1172</td>\n",
       "      <td>3797</td>\n",
       "    </tr>\n",
       "    <tr>\n",
       "      <th>Regular do ensino fundamental ou do 1º grau</th>\n",
       "      <td>1593</td>\n",
       "      <td>1294</td>\n",
       "      <td>66473</td>\n",
       "    </tr>\n",
       "    <tr>\n",
       "      <th>Regular do ensino médio ou do 2º grau</th>\n",
       "      <td>1513</td>\n",
       "      <td>1462</td>\n",
       "      <td>76841</td>\n",
       "    </tr>\n",
       "    <tr>\n",
       "      <th>Educação de jovens e adultos ou supletivo do ensino fundamental ou do 1º grau</th>\n",
       "      <td>197</td>\n",
       "      <td>277</td>\n",
       "      <td>2890</td>\n",
       "    </tr>\n",
       "    <tr>\n",
       "      <th>Educação de jovens e adultos ou supletivo de ensino médio ou do 2º grau</th>\n",
       "      <td>206</td>\n",
       "      <td>212</td>\n",
       "      <td>4497</td>\n",
       "    </tr>\n",
       "    <tr>\n",
       "      <th>Superior de graduação</th>\n",
       "      <td>1843</td>\n",
       "      <td>2556</td>\n",
       "      <td>33990</td>\n",
       "    </tr>\n",
       "    <tr>\n",
       "      <th>Mestrado ou doutorado</th>\n",
       "      <td>123</td>\n",
       "      <td>126</td>\n",
       "      <td>1666</td>\n",
       "    </tr>\n",
       "    <tr>\n",
       "      <th>Alfabetização de jovens e adultos</th>\n",
       "      <td>143</td>\n",
       "      <td>168</td>\n",
       "      <td>806</td>\n",
       "    </tr>\n",
       "    <tr>\n",
       "      <th>Creche</th>\n",
       "      <td>0</td>\n",
       "      <td>1</td>\n",
       "      <td>462</td>\n",
       "    </tr>\n",
       "    <tr>\n",
       "      <th>Classe de alfabetização - CA</th>\n",
       "      <td>230</td>\n",
       "      <td>263</td>\n",
       "      <td>1197</td>\n",
       "    </tr>\n",
       "    <tr>\n",
       "      <th>Maternal, jardim de infância etc</th>\n",
       "      <td>5</td>\n",
       "      <td>1</td>\n",
       "      <td>220</td>\n",
       "    </tr>\n",
       "    <tr>\n",
       "      <th>All</th>\n",
       "      <td>19015</td>\n",
       "      <td>19628</td>\n",
       "      <td>362627</td>\n",
       "    </tr>\n",
       "  </tbody>\n",
       "</table>\n",
       "</div>"
      ],
      "text/plain": [
       "                                                    masculino  feminino  \\\n",
       "Elementar (primário)                                     7521      7292   \n",
       "Médio 1º ciclo (ginasial, etc.)                          1458      1250   \n",
       "Médio 2º ciclo (científico, clássico, etc.)              1038      1172   \n",
       "Regular do ensino fundamental ou do 1º grau              1593      1294   \n",
       "Regular do ensino médio ou do 2º grau                    1513      1462   \n",
       "Educação de jovens e adultos ou supletivo do en...        197       277   \n",
       "Educação de jovens e adultos ou supletivo de en...        206       212   \n",
       "Superior de graduação                                    1843      2556   \n",
       "Mestrado ou doutorado                                     123       126   \n",
       "Alfabetização de jovens e adultos                         143       168   \n",
       "Creche                                                      0         1   \n",
       "Classe de alfabetização - CA                              230       263   \n",
       "Maternal, jardim de infância etc                            5         1   \n",
       "All                                                     19015     19628   \n",
       "\n",
       "                                                       All  \n",
       "Elementar (primário)                                 30971  \n",
       "Médio 1º ciclo (ginasial, etc.)                       6114  \n",
       "Médio 2º ciclo (científico, clássico, etc.)           3797  \n",
       "Regular do ensino fundamental ou do 1º grau          66473  \n",
       "Regular do ensino médio ou do 2º grau                76841  \n",
       "Educação de jovens e adultos ou supletivo do en...    2890  \n",
       "Educação de jovens e adultos ou supletivo de en...    4497  \n",
       "Superior de graduação                                33990  \n",
       "Mestrado ou doutorado                                 1666  \n",
       "Alfabetização de jovens e adultos                      806  \n",
       "Creche                                                 462  \n",
       "Classe de alfabetização - CA                          1197  \n",
       "Maternal, jardim de infância etc                       220  \n",
       "All                                                 362627  "
      ]
     },
     "execution_count": 11,
     "metadata": {},
     "output_type": "execute_result"
    }
   ],
   "source": [
    "ct = pd.crosstab(dados.curso,dados.sexo[dados.aposentados == 2],margins=True)\n",
    "\n",
    "\n",
    "ct.columns = ['masculino',\n",
    "'feminino',\n",
    "'All']\n",
    "\n",
    "ct.index = ['Elementar (primário)',\n",
    "'Médio 1º ciclo (ginasial, etc.)',\n",
    "'Médio 2º ciclo (científico, clássico, etc.)',\n",
    "'Regular do ensino fundamental ou do 1º grau',\n",
    "'Regular do ensino médio ou do 2º grau',\n",
    "'Educação de jovens e adultos ou supletivo do ensino fundamental ou do 1º grau',\n",
    "'Educação de jovens e adultos ou supletivo de ensino médio ou do 2º grau',\n",
    "'Superior de graduação',\n",
    "'Mestrado ou doutorado',\n",
    "'Alfabetização de jovens e adultos',\n",
    "'Creche',\n",
    "'Classe de alfabetização - CA',\n",
    "'Maternal, jardim de infância etc',\n",
    "'All']\n",
    "\n",
    "\n",
    "ct"
   ]
  },
  {
   "cell_type": "code",
   "execution_count": 12,
   "metadata": {
    "collapsed": false
   },
   "outputs": [
    {
     "data": {
      "image/png": "[encoded data removed]",
      "text/plain": [
       "<matplotlib.figure.Figure at 0x980b828>"
      ]
     },
     "metadata": {},
     "output_type": "display_data"
    }
   ],
   "source": [
    "ct2 = ct.iloc[:13,0]\n",
    "\n",
    "plot = ct2.plot(kind='pie',title='Maior curso frequentado - masculino',autopct='%.1f',figsize=(10, 10))"
   ]
  },
  {
   "cell_type": "code",
   "execution_count": 13,
   "metadata": {
    "collapsed": false
   },
   "outputs": [
    {
     "data": {
      "image/png": "[encoded data removed]",
      "text/plain": [
       "<matplotlib.figure.Figure at 0x8c6c6a0>"
      ]
     },
     "metadata": {},
     "output_type": "display_data"
    }
   ],
   "source": [
    "ct3 = ct.iloc[:13,1]\n",
    "\n",
    "plot = ct3.plot(kind='pie',title='Maior curso frequentado - feminino',autopct='%.1f',figsize=(10, 10))"
   ]
  },
  {
   "cell_type": "code",
   "execution_count": 14,
   "metadata": {
    "collapsed": false
   },
   "outputs": [
    {
     "data": {
      "text/plain": [
       "count    38643.000000\n",
       "mean        67.386952\n",
       "std         10.574217\n",
       "min         11.000000\n",
       "25%         61.000000\n",
       "50%         67.000000\n",
       "75%         74.000000\n",
       "max        112.000000\n",
       "Name: V8005, dtype: float64"
      ]
     },
     "execution_count": 14,
     "metadata": {},
     "output_type": "execute_result"
    }
   ],
   "source": [
    "dados.idade[dados.aposentados == 2].describe()"
   ]
  },
  {
   "cell_type": "code",
   "execution_count": 15,
   "metadata": {
    "collapsed": false
   },
   "outputs": [
    {
     "data": {
      "text/plain": [
       "(60, 70]      40.0\n",
       "(70, 80]      26.0\n",
       "(50, 60]      19.0\n",
       "(80, 90]       9.0\n",
       "(40, 50]       3.0\n",
       "(90, 100]      1.0\n",
       "(30, 40]       1.0\n",
       "(20, 30]       0.0\n",
       "(10, 20]       0.0\n",
       "(100, 110]     0.0\n",
       "dtype: float64"
      ]
     },
     "execution_count": 15,
     "metadata": {},
     "output_type": "execute_result"
    }
   ],
   "source": [
    "k = 110/10\n",
    "a = (109.0 - 0) / k\n",
    "#print(a)\n",
    "\n",
    "faixa =  np.arange(10,111,10)\n",
    "#print(faixa)\n",
    "\n",
    "variável_idade= pd.cut(dados.idade[dados.aposentados == 2], faixa)\n",
    "\n",
    "x = variável_idade.value_counts(True)*100\n",
    "\n",
    "x.round(decimals=0)"
   ]
  },
  {
   "cell_type": "code",
   "execution_count": 16,
   "metadata": {
    "collapsed": false
   },
   "outputs": [
    {
     "data": {
      "text/plain": [
       "<matplotlib.legend.Legend at 0x97b25f8>"
      ]
     },
     "execution_count": 16,
     "metadata": {},
     "output_type": "execute_result"
    },
    {
     "data": {
      "image/png": "[encoded data removed]",
      "text/plain": [
       "<matplotlib.figure.Figure at 0x97b2e48>"
      ]
     },
     "metadata": {},
     "output_type": "display_data"
    }
   ],
   "source": [
    "idade_opos = dados.idade[dados.aposentados2]\n",
    "\n",
    "plot = idade_opos[dados.sexo == 2].plot.hist(bins=faixa,color = \"blue\",label = 'mas',alpha=0.5)\n",
    "plot = idade_opos[dados.sexo == 4].plot.hist(bins=faixa,color = \"green\",label = 'fem',alpha=0.5)\n",
    "pyplot.legend(loc='upper right')\n",
    "\n"
   ]
  },
  {
   "cell_type": "code",
   "execution_count": 17,
   "metadata": {
    "collapsed": false
   },
   "outputs": [
    {
     "data": {
      "text/plain": [
       "<matplotlib.axes._subplots.AxesSubplot at 0x97a7438>"
      ]
     },
     "execution_count": 17,
     "metadata": {},
     "output_type": "execute_result"
    },
    {
     "data": {
      "image/png": "[encoded data removed]",
      "text/plain": [
       "<matplotlib.figure.Figure at 0x97f4390>"
      ]
     },
     "metadata": {},
     "output_type": "display_data"
    }
   ],
   "source": [
    "dados.idade_sexo = pd.DataFrame([idade_opos[dados.sexo == 2],idade_opos[dados.sexo == 4]])\n",
    "\n",
    "dados.idade_sexo = dados.idade_sexo.T\n",
    "dados.idade_sexo.columns = 'feminino','masculino'\n",
    "\n",
    "dados.idade_sexo.plot.box()\n"
   ]
  },
  {
   "cell_type": "code",
   "execution_count": 22,
   "metadata": {
    "collapsed": false
   },
   "outputs": [
    {
     "data": {
      "text/html": [
       "<div>\n",
       "<table border=\"1\" class=\"dataframe\">\n",
       "  <thead>\n",
       "    <tr style=\"text-align: right;\">\n",
       "      <th></th>\n",
       "      <th>masculino</th>\n",
       "      <th>feminino</th>\n",
       "      <th>All</th>\n",
       "    </tr>\n",
       "  </thead>\n",
       "  <tbody>\n",
       "    <tr>\n",
       "      <th>menos que 1 ano</th>\n",
       "      <td>4725</td>\n",
       "      <td>5102</td>\n",
       "      <td>69239</td>\n",
       "    </tr>\n",
       "    <tr>\n",
       "      <th>1 ano</th>\n",
       "      <td>685</td>\n",
       "      <td>685</td>\n",
       "      <td>10739</td>\n",
       "    </tr>\n",
       "    <tr>\n",
       "      <th>2 ano</th>\n",
       "      <td>1080</td>\n",
       "      <td>1113</td>\n",
       "      <td>13643</td>\n",
       "    </tr>\n",
       "    <tr>\n",
       "      <th>3 ano</th>\n",
       "      <td>1254</td>\n",
       "      <td>1316</td>\n",
       "      <td>16182</td>\n",
       "    </tr>\n",
       "    <tr>\n",
       "      <th>4 ano</th>\n",
       "      <td>3160</td>\n",
       "      <td>2857</td>\n",
       "      <td>29638</td>\n",
       "    </tr>\n",
       "    <tr>\n",
       "      <th>5 ano</th>\n",
       "      <td>1073</td>\n",
       "      <td>1076</td>\n",
       "      <td>20562</td>\n",
       "    </tr>\n",
       "    <tr>\n",
       "      <th>6 ano</th>\n",
       "      <td>529</td>\n",
       "      <td>424</td>\n",
       "      <td>14240</td>\n",
       "    </tr>\n",
       "    <tr>\n",
       "      <th>7 ano</th>\n",
       "      <td>304</td>\n",
       "      <td>245</td>\n",
       "      <td>14389</td>\n",
       "    </tr>\n",
       "    <tr>\n",
       "      <th>8 ano</th>\n",
       "      <td>1505</td>\n",
       "      <td>1290</td>\n",
       "      <td>30708</td>\n",
       "    </tr>\n",
       "    <tr>\n",
       "      <th>9 ano</th>\n",
       "      <td>121</td>\n",
       "      <td>102</td>\n",
       "      <td>11589</td>\n",
       "    </tr>\n",
       "    <tr>\n",
       "      <th>10 ano</th>\n",
       "      <td>184</td>\n",
       "      <td>164</td>\n",
       "      <td>11297</td>\n",
       "    </tr>\n",
       "    <tr>\n",
       "      <th>11 ano</th>\n",
       "      <td>2196</td>\n",
       "      <td>2272</td>\n",
       "      <td>71172</td>\n",
       "    </tr>\n",
       "    <tr>\n",
       "      <th>12 ano</th>\n",
       "      <td>286</td>\n",
       "      <td>349</td>\n",
       "      <td>8336</td>\n",
       "    </tr>\n",
       "    <tr>\n",
       "      <th>13 ano</th>\n",
       "      <td>127</td>\n",
       "      <td>111</td>\n",
       "      <td>5308</td>\n",
       "    </tr>\n",
       "    <tr>\n",
       "      <th>14 ano</th>\n",
       "      <td>140</td>\n",
       "      <td>237</td>\n",
       "      <td>5434</td>\n",
       "    </tr>\n",
       "    <tr>\n",
       "      <th>15 ano</th>\n",
       "      <td>1635</td>\n",
       "      <td>2270</td>\n",
       "      <td>29345</td>\n",
       "    </tr>\n",
       "    <tr>\n",
       "      <th>não determinado</th>\n",
       "      <td>11</td>\n",
       "      <td>15</td>\n",
       "      <td>806</td>\n",
       "    </tr>\n",
       "    <tr>\n",
       "      <th>All</th>\n",
       "      <td>19015</td>\n",
       "      <td>19628</td>\n",
       "      <td>362627</td>\n",
       "    </tr>\n",
       "  </tbody>\n",
       "</table>\n",
       "</div>"
      ],
      "text/plain": [
       "                 masculino  feminino     All\n",
       "menos que 1 ano       4725      5102   69239\n",
       "1 ano                  685       685   10739\n",
       "2 ano                 1080      1113   13643\n",
       "3 ano                 1254      1316   16182\n",
       "4 ano                 3160      2857   29638\n",
       "5 ano                 1073      1076   20562\n",
       "6 ano                  529       424   14240\n",
       "7 ano                  304       245   14389\n",
       "8 ano                 1505      1290   30708\n",
       "9 ano                  121       102   11589\n",
       "10 ano                 184       164   11297\n",
       "11 ano                2196      2272   71172\n",
       "12 ano                 286       349    8336\n",
       "13 ano                 127       111    5308\n",
       "14 ano                 140       237    5434\n",
       "15 ano                1635      2270   29345\n",
       "não determinado         11        15     806\n",
       "All                  19015     19628  362627"
      ]
     },
     "execution_count": 22,
     "metadata": {},
     "output_type": "execute_result"
    }
   ],
   "source": [
    "ct3 = pd.crosstab(dados.anos_estudo,dados.sexo[dados.aposentados == 2],margins=True)\n",
    "\n",
    "ct3.columns = ct.columns\n",
    "\n",
    "ct3.index = ['menos que 1 ano',\n",
    "'1 ano',\n",
    "'2 ano',\n",
    "'3 ano',\n",
    "'4 ano',\n",
    "'5 ano',\n",
    "'6 ano',\n",
    "'7 ano',\n",
    "'8 ano',\n",
    "'9 ano',\n",
    "'10 ano',\n",
    "'11 ano',\n",
    "'12 ano',\n",
    "'13 ano',\n",
    "'14 ano',\n",
    "'15 ano',\n",
    "'não determinado',\n",
    "'All']\n",
    "\n",
    "\n",
    "ct3"
   ]
  },
  {
   "cell_type": "code",
   "execution_count": 23,
   "metadata": {
    "collapsed": false
   },
   "outputs": [
    {
     "data": {
      "text/plain": [
       "19015"
      ]
     },
     "execution_count": 23,
     "metadata": {},
     "output_type": "execute_result"
    }
   ],
   "source": [
    "dados.aposentados2[dados.sexo == 2].sum()"
   ]
  },
  {
   "cell_type": "code",
   "execution_count": 24,
   "metadata": {
    "collapsed": false
   },
   "outputs": [
    {
     "data": {
      "text/plain": [
       "19628"
      ]
     },
     "execution_count": 24,
     "metadata": {},
     "output_type": "execute_result"
    }
   ],
   "source": [
    "dados.aposentados2[dados.sexo == 4].sum()"
   ]
  },
  {
   "cell_type": "markdown",
   "metadata": {
    "collapsed": false
   },
   "source": [
    "Primeiro vemos que existem mais aposentados mulheres que homens, como mostra o boxplot e o histograma abaixo,porem a diferença é minima,existem 613 mulheres a mais, uma quantidade quase desprezivel comparada com o tamanho da PNAD"
   ]
  },
  {
   "cell_type": "markdown",
   "metadata": {
    "collapsed": true
   },
   "source": [
    "Mesmo que a quantidade de homens e mulheres sejam proximas a renda das mulheres aposentadas é menor que as dos homens, as mulheres tem uma mediana de 760 reais, enquanto os homens tem uma mediana de 1000 reais, ou seja os homens aposentados ganham mais que as mulheres aposentadas"
   ]
  },
  {
   "cell_type": "markdown",
   "metadata": {},
   "source": [
    "Alem do mais como podemos ver na tabela abaixo,e nos gráficos de setores, existem uma quantidade significativa de mulheres com um grau maior de ensino que homens,algo comprovado pela quantidade de anos que os aposentados estudaram. Assim é claro que diferença de salário dos homens e das mulheres não é justificada pela diferença de ensino."
   ]
  }
 ],
 "metadata": {
  "kernelspec": {
   "display_name": "Python 3",
   "language": "python",
   "name": "python3"
  },
  "language_info": {
   "codemirror_mode": {
    "name": "ipython",
    "version": 3
   },
   "file_extension": ".py",
   "mimetype": "text/x-python",
   "name": "python",
   "nbconvert_exporter": "python",
   "pygments_lexer": "ipython3",
   "version": "3.5.1"
  }
 },
 "nbformat": 4,
 "nbformat_minor": 0
}
