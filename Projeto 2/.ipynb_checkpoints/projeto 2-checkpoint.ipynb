{
 "cells": [
  {
   "cell_type": "code",
   "execution_count": 1,
   "metadata": {
    "collapsed": true
   },
   "outputs": [],
   "source": [
    "import numpy as np\n",
    "import matplotlib.pyplot as plt\n",
    "from scipy.stats import norm, t\n",
    "%matplotlib inline"
   ]
  },
  {
   "cell_type": "markdown",
   "metadata": {},
   "source": [
    "hipótese nula: B>=A\n",
    "hipótese alternativa: B<A"
   ]
  },
  {
   "cell_type": "code",
   "execution_count": 65,
   "metadata": {
    "collapsed": false
   },
   "outputs": [
    {
     "name": "stdout",
     "output_type": "stream",
     "text": [
      "nos não podemos rejeitar a hipotese nula pois  -2.12132034356 < 0.352891512278 com grau de siginificancia de 95%\n"
     ]
    }
   ],
   "source": [
    "dados_a = [2,3,4]\n",
    "dados_b = [1,2,3]\n",
    "\n",
    "\n",
    "media_b = np.mean(dados_b)\n",
    "media_a = np.mean(dados_a)\n",
    "dp_b = np.std(dados_b)\n",
    "\n",
    "#média padronizada com o desvio padrão amostral.\n",
    "Z = (media_b - media_a)/(dp_b/(len(dados_b))**0.5)\n",
    "    \n",
    "#distribuição t-student com (n-1) graus de liberdade\n",
    "p = 0.05\n",
    "X = t.pdf(p, df=(len(dados_a)-1))\n",
    "\n",
    "if Z<X:\n",
    "    print('nos não podemos rejeitar a hipotese nula pois ',Z,'<',X,'com grau de siginificancia de 95%')\n",
    "\n",
    "\n",
    "#nota não sei exatamente oque é para colocar em \"p\", se é 0.05 ou 5, nos dois casos o X parece errado\n",
    "#pois esta diferente da tabela, acho que ele recebe a porcentagem e não o z, basicamente: não que função que recebe a porcentagem\n",
    "#e devolve z\n"
   ]
  },
  {
   "cell_type": "code",
   "execution_count": 62,
   "metadata": {
    "collapsed": false
   },
   "outputs": [
    {
     "name": "stdout",
     "output_type": "stream",
     "text": [
      "0.318309886184\n"
     ]
    }
   ],
   "source": [
    "print(t.pdf(0, df=(1)))"
   ]
  },
  {
   "cell_type": "code",
   "execution_count": null,
   "metadata": {
    "collapsed": true
   },
   "outputs": [],
   "source": []
  }
 ],
 "metadata": {
  "kernelspec": {
   "display_name": "Python 3",
   "language": "python",
   "name": "python3"
  },
  "language_info": {
   "codemirror_mode": {
    "name": "ipython",
    "version": 3
   },
   "file_extension": ".py",
   "mimetype": "text/x-python",
   "name": "python",
   "nbconvert_exporter": "python",
   "pygments_lexer": "ipython3",
   "version": "3.5.1"
  }
 },
 "nbformat": 4,
 "nbformat_minor": 0
}
