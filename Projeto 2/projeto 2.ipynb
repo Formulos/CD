{
 "cells": [
  {
   "cell_type": "code",
   "execution_count": 1,
   "metadata": {
    "collapsed": true
   },
   "outputs": [],
   "source": [
    "import pandas as pd\n",
    "import json\n",
    "import itertools\n",
    "import matplotlib.pyplot as plt\n",
    "import numpy as np\n",
    "from scipy.stats import norm, t\n",
    "%matplotlib inline"
   ]
  },
  {
   "cell_type": "markdown",
   "metadata": {},
   "source": [
    "### Leitura do arquivo"
   ]
  },
  {
   "cell_type": "markdown",
   "metadata": {},
   "source": [
    "No Firebase os dados encontram-se ordenados como estruturas aninhadas. Vamos usar a função Export JSON no Firebase console."
   ]
  },
  {
   "cell_type": "markdown",
   "metadata": {},
   "source": [
    "<img src=firebase_object_tree.png width=200>"
   ]
  },
  {
   "cell_type": "markdown",
   "metadata": {},
   "source": [
    "\n",
    "A função *Exportar o JSON* fica à direita na visão de base de dados:\n",
    "<img src=export_json.png width=500>"
   ]
  },
  {
   "cell_type": "code",
   "execution_count": 2,
   "metadata": {
    "collapsed": false
   },
   "outputs": [],
   "source": [
    "arquivo = open(\"teste-ab-export.json\")\n",
    "linhas = arquivo.readlines()\n",
    "texto = \"\".join(linhas)\n",
    "dados_fire = json.loads(texto)"
   ]
  },
  {
   "cell_type": "markdown",
   "metadata": {},
   "source": [
    "### Análise do atributo logs"
   ]
  },
  {
   "cell_type": "markdown",
   "metadata": {},
   "source": [
    " Veja que log, que contém todos os dados, está pesadamente aninhado"
   ]
  },
  {
   "cell_type": "code",
   "execution_count": 3,
   "metadata": {
    "collapsed": false
   },
   "outputs": [],
   "source": [
    "for k,v in dados_fire[\"logs\"].items():\n",
    "    # print(k,v) # habilite para imprimir as chaves de mais alto nível\n",
    "    for chave, valor in v.items():\n",
    "        # print(chave, valor) # habilite para imprimir as chaves inferiores\n",
    "        pass # desabilite quando reabilitar a linha de cima\n",
    "\n"
   ]
  },
  {
   "cell_type": "markdown",
   "metadata": {},
   "source": [
    "### Convertendo para um dataframe"
   ]
  },
  {
   "cell_type": "markdown",
   "metadata": {},
   "source": [
    "O pandas entende listas de dicionários que têm as mesmas chaves. O Firebase nos dá dicionários de dicionários de dicionários. \n",
    "\n",
    "Vamos precisar converter. Basta inserir todos os itens que estavam na chave \"logs\" em uma lista"
   ]
  },
  {
   "cell_type": "code",
   "execution_count": 4,
   "metadata": {
    "collapsed": false
   },
   "outputs": [],
   "source": [
    "lista_dicionarios = []\n",
    "\n",
    "for k,v in dados_fire[\"logs\"].items():\n",
    "    lista_dicionarios.append(v)\n",
    "\n",
    "        \n"
   ]
  },
  {
   "cell_type": "markdown",
   "metadata": {},
   "source": [
    "A função `from_records` converte a lista de dicionários em um dataframe"
   ]
  },
  {
   "cell_type": "code",
   "execution_count": 5,
   "metadata": {
    "collapsed": false
   },
   "outputs": [],
   "source": [
    "dataframe = pd.DataFrame.from_records(lista_dicionarios)"
   ]
  },
  {
   "cell_type": "markdown",
   "metadata": {},
   "source": [
    "Desta forma temos o dataframe. Observe que os eventos são dos seguintes tipos:\n",
    "\n",
    "* *inicio* - quando um usuário inicia uma tarefa\n",
    "* final - quando o usuário termina uma tarefa\n",
    "\n",
    "Precisamos agrupar pelo `id` do usuário e depois subtrair o tempo inicial do final, para sabermos quanto tempo efetivamente levou aquela tarefa"
   ]
  },
  {
   "cell_type": "code",
   "execution_count": 6,
   "metadata": {
    "collapsed": false,
    "scrolled": true
   },
   "outputs": [
    {
     "data": {
      "text/html": [
       "<div>\n",
       "<table border=\"1\" class=\"dataframe\">\n",
       "  <thead>\n",
       "    <tr style=\"text-align: right;\">\n",
       "      <th></th>\n",
       "      <th>tempo</th>\n",
       "      <th>tipo</th>\n",
       "      <th>user_id</th>\n",
       "      <th>versao</th>\n",
       "    </tr>\n",
       "  </thead>\n",
       "  <tbody>\n",
       "    <tr>\n",
       "      <th>0</th>\n",
       "      <td>1478561058834</td>\n",
       "      <td>inicio</td>\n",
       "      <td>4110356409</td>\n",
       "      <td>B</td>\n",
       "    </tr>\n",
       "    <tr>\n",
       "      <th>1</th>\n",
       "      <td>1478545030927</td>\n",
       "      <td>inicio</td>\n",
       "      <td>2830537766</td>\n",
       "      <td>A</td>\n",
       "    </tr>\n",
       "    <tr>\n",
       "      <th>2</th>\n",
       "      <td>1478520186195</td>\n",
       "      <td>inicio</td>\n",
       "      <td>3796913893</td>\n",
       "      <td>B</td>\n",
       "    </tr>\n",
       "    <tr>\n",
       "      <th>3</th>\n",
       "      <td>1478519211857</td>\n",
       "      <td>inicio</td>\n",
       "      <td>2986003787</td>\n",
       "      <td>B</td>\n",
       "    </tr>\n",
       "    <tr>\n",
       "      <th>4</th>\n",
       "      <td>1478521546261</td>\n",
       "      <td>inicio</td>\n",
       "      <td>1817435304</td>\n",
       "      <td>A</td>\n",
       "    </tr>\n",
       "    <tr>\n",
       "      <th>5</th>\n",
       "      <td>1478523411283</td>\n",
       "      <td>inicio</td>\n",
       "      <td>1600566857</td>\n",
       "      <td>A</td>\n",
       "    </tr>\n",
       "    <tr>\n",
       "      <th>6</th>\n",
       "      <td>1478520653022</td>\n",
       "      <td>inicio</td>\n",
       "      <td>1561760900</td>\n",
       "      <td>A</td>\n",
       "    </tr>\n",
       "    <tr>\n",
       "      <th>7</th>\n",
       "      <td>1478546662783</td>\n",
       "      <td>final</td>\n",
       "      <td>2609965679</td>\n",
       "      <td>B</td>\n",
       "    </tr>\n",
       "    <tr>\n",
       "      <th>8</th>\n",
       "      <td>1478542096123</td>\n",
       "      <td>inicio</td>\n",
       "      <td>2986003787</td>\n",
       "      <td>B</td>\n",
       "    </tr>\n",
       "    <tr>\n",
       "      <th>9</th>\n",
       "      <td>1478520690100</td>\n",
       "      <td>inicio</td>\n",
       "      <td>1561760900</td>\n",
       "      <td>A</td>\n",
       "    </tr>\n",
       "    <tr>\n",
       "      <th>10</th>\n",
       "      <td>1478560850108</td>\n",
       "      <td>inicio</td>\n",
       "      <td>4152027044</td>\n",
       "      <td>B</td>\n",
       "    </tr>\n",
       "    <tr>\n",
       "      <th>11</th>\n",
       "      <td>1478520198416</td>\n",
       "      <td>final</td>\n",
       "      <td>3796913893</td>\n",
       "      <td>B</td>\n",
       "    </tr>\n",
       "    <tr>\n",
       "      <th>12</th>\n",
       "      <td>1478524240888</td>\n",
       "      <td>inicio</td>\n",
       "      <td>3386008379</td>\n",
       "      <td>B</td>\n",
       "    </tr>\n",
       "    <tr>\n",
       "      <th>13</th>\n",
       "      <td>1478519429281</td>\n",
       "      <td>inicio</td>\n",
       "      <td>3335800841</td>\n",
       "      <td>A</td>\n",
       "    </tr>\n",
       "    <tr>\n",
       "      <th>14</th>\n",
       "      <td>1478609993249</td>\n",
       "      <td>inicio</td>\n",
       "      <td>1857098293</td>\n",
       "      <td>A</td>\n",
       "    </tr>\n",
       "    <tr>\n",
       "      <th>15</th>\n",
       "      <td>1478520211862</td>\n",
       "      <td>inicio</td>\n",
       "      <td>3796913893</td>\n",
       "      <td>B</td>\n",
       "    </tr>\n",
       "    <tr>\n",
       "      <th>16</th>\n",
       "      <td>1478522040436</td>\n",
       "      <td>inicio</td>\n",
       "      <td>3224266341</td>\n",
       "      <td>A</td>\n",
       "    </tr>\n",
       "    <tr>\n",
       "      <th>17</th>\n",
       "      <td>1478546068831</td>\n",
       "      <td>inicio</td>\n",
       "      <td>2609965679</td>\n",
       "      <td>B</td>\n",
       "    </tr>\n",
       "    <tr>\n",
       "      <th>18</th>\n",
       "      <td>1478519063486</td>\n",
       "      <td>final</td>\n",
       "      <td>842481613</td>\n",
       "      <td>B</td>\n",
       "    </tr>\n",
       "    <tr>\n",
       "      <th>19</th>\n",
       "      <td>1478526713971</td>\n",
       "      <td>inicio</td>\n",
       "      <td>3237228231</td>\n",
       "      <td>A</td>\n",
       "    </tr>\n",
       "    <tr>\n",
       "      <th>20</th>\n",
       "      <td>1478602009276</td>\n",
       "      <td>inicio</td>\n",
       "      <td>2392299506</td>\n",
       "      <td>B</td>\n",
       "    </tr>\n",
       "    <tr>\n",
       "      <th>21</th>\n",
       "      <td>1478536439920</td>\n",
       "      <td>inicio</td>\n",
       "      <td>4038184310</td>\n",
       "      <td>A</td>\n",
       "    </tr>\n",
       "    <tr>\n",
       "      <th>22</th>\n",
       "      <td>1478545542040</td>\n",
       "      <td>final</td>\n",
       "      <td>116148368</td>\n",
       "      <td>A</td>\n",
       "    </tr>\n",
       "    <tr>\n",
       "      <th>23</th>\n",
       "      <td>1478529130413</td>\n",
       "      <td>inicio</td>\n",
       "      <td>3686520904</td>\n",
       "      <td>B</td>\n",
       "    </tr>\n",
       "    <tr>\n",
       "      <th>24</th>\n",
       "      <td>1478555143019</td>\n",
       "      <td>inicio</td>\n",
       "      <td>2796267476</td>\n",
       "      <td>B</td>\n",
       "    </tr>\n",
       "    <tr>\n",
       "      <th>25</th>\n",
       "      <td>1478543934764</td>\n",
       "      <td>inicio</td>\n",
       "      <td>2986003787</td>\n",
       "      <td>A</td>\n",
       "    </tr>\n",
       "    <tr>\n",
       "      <th>26</th>\n",
       "      <td>1478523979905</td>\n",
       "      <td>inicio</td>\n",
       "      <td>1585826857</td>\n",
       "      <td>B</td>\n",
       "    </tr>\n",
       "    <tr>\n",
       "      <th>27</th>\n",
       "      <td>1478519629900</td>\n",
       "      <td>inicio</td>\n",
       "      <td>3335800841</td>\n",
       "      <td>A</td>\n",
       "    </tr>\n",
       "    <tr>\n",
       "      <th>28</th>\n",
       "      <td>1478521582014</td>\n",
       "      <td>inicio</td>\n",
       "      <td>1484064589</td>\n",
       "      <td>B</td>\n",
       "    </tr>\n",
       "    <tr>\n",
       "      <th>29</th>\n",
       "      <td>1478529819356</td>\n",
       "      <td>inicio</td>\n",
       "      <td>2506455801</td>\n",
       "      <td>B</td>\n",
       "    </tr>\n",
       "    <tr>\n",
       "      <th>...</th>\n",
       "      <td>...</td>\n",
       "      <td>...</td>\n",
       "      <td>...</td>\n",
       "      <td>...</td>\n",
       "    </tr>\n",
       "    <tr>\n",
       "      <th>78</th>\n",
       "      <td>1478610015406</td>\n",
       "      <td>final</td>\n",
       "      <td>1857098293</td>\n",
       "      <td>A</td>\n",
       "    </tr>\n",
       "    <tr>\n",
       "      <th>79</th>\n",
       "      <td>1478546196842</td>\n",
       "      <td>inicio</td>\n",
       "      <td>2609965679</td>\n",
       "      <td>B</td>\n",
       "    </tr>\n",
       "    <tr>\n",
       "      <th>80</th>\n",
       "      <td>1478560818571</td>\n",
       "      <td>inicio</td>\n",
       "      <td>4152027044</td>\n",
       "      <td>B</td>\n",
       "    </tr>\n",
       "    <tr>\n",
       "      <th>81</th>\n",
       "      <td>1478526157686</td>\n",
       "      <td>inicio</td>\n",
       "      <td>2250801952</td>\n",
       "      <td>B</td>\n",
       "    </tr>\n",
       "    <tr>\n",
       "      <th>82</th>\n",
       "      <td>1478546556228</td>\n",
       "      <td>inicio</td>\n",
       "      <td>2609965679</td>\n",
       "      <td>B</td>\n",
       "    </tr>\n",
       "    <tr>\n",
       "      <th>83</th>\n",
       "      <td>1478544993209</td>\n",
       "      <td>inicio</td>\n",
       "      <td>2830537766</td>\n",
       "      <td>A</td>\n",
       "    </tr>\n",
       "    <tr>\n",
       "      <th>84</th>\n",
       "      <td>1478546653665</td>\n",
       "      <td>inicio</td>\n",
       "      <td>2609965679</td>\n",
       "      <td>B</td>\n",
       "    </tr>\n",
       "    <tr>\n",
       "      <th>85</th>\n",
       "      <td>1478536455352</td>\n",
       "      <td>final</td>\n",
       "      <td>4038184310</td>\n",
       "      <td>A</td>\n",
       "    </tr>\n",
       "    <tr>\n",
       "      <th>86</th>\n",
       "      <td>1478544900181</td>\n",
       "      <td>final</td>\n",
       "      <td>2696156667</td>\n",
       "      <td>B</td>\n",
       "    </tr>\n",
       "    <tr>\n",
       "      <th>87</th>\n",
       "      <td>1478536039947</td>\n",
       "      <td>inicio</td>\n",
       "      <td>1213412462</td>\n",
       "      <td>B</td>\n",
       "    </tr>\n",
       "    <tr>\n",
       "      <th>88</th>\n",
       "      <td>1478565506954</td>\n",
       "      <td>inicio</td>\n",
       "      <td>3548116922</td>\n",
       "      <td>A</td>\n",
       "    </tr>\n",
       "    <tr>\n",
       "      <th>89</th>\n",
       "      <td>1478526655826</td>\n",
       "      <td>inicio</td>\n",
       "      <td>2986003787</td>\n",
       "      <td>B</td>\n",
       "    </tr>\n",
       "    <tr>\n",
       "      <th>90</th>\n",
       "      <td>1478538273229</td>\n",
       "      <td>final</td>\n",
       "      <td>3029084152</td>\n",
       "      <td>A</td>\n",
       "    </tr>\n",
       "    <tr>\n",
       "      <th>91</th>\n",
       "      <td>1478524017198</td>\n",
       "      <td>final</td>\n",
       "      <td>1585826857</td>\n",
       "      <td>A</td>\n",
       "    </tr>\n",
       "    <tr>\n",
       "      <th>92</th>\n",
       "      <td>1478520694333</td>\n",
       "      <td>final</td>\n",
       "      <td>1561760900</td>\n",
       "      <td>A</td>\n",
       "    </tr>\n",
       "    <tr>\n",
       "      <th>93</th>\n",
       "      <td>1478519833845</td>\n",
       "      <td>inicio</td>\n",
       "      <td>2986003787</td>\n",
       "      <td>A</td>\n",
       "    </tr>\n",
       "    <tr>\n",
       "      <th>94</th>\n",
       "      <td>1478546034843</td>\n",
       "      <td>inicio</td>\n",
       "      <td>2609965679</td>\n",
       "      <td>B</td>\n",
       "    </tr>\n",
       "    <tr>\n",
       "      <th>95</th>\n",
       "      <td>1478560859029</td>\n",
       "      <td>inicio</td>\n",
       "      <td>4152027044</td>\n",
       "      <td>B</td>\n",
       "    </tr>\n",
       "    <tr>\n",
       "      <th>96</th>\n",
       "      <td>1478521406348</td>\n",
       "      <td>inicio</td>\n",
       "      <td>2125116560</td>\n",
       "      <td>B</td>\n",
       "    </tr>\n",
       "    <tr>\n",
       "      <th>97</th>\n",
       "      <td>1478519399919</td>\n",
       "      <td>inicio</td>\n",
       "      <td>3724356519</td>\n",
       "      <td>B</td>\n",
       "    </tr>\n",
       "    <tr>\n",
       "      <th>98</th>\n",
       "      <td>1478529063083</td>\n",
       "      <td>inicio</td>\n",
       "      <td>609063334</td>\n",
       "      <td>A</td>\n",
       "    </tr>\n",
       "    <tr>\n",
       "      <th>99</th>\n",
       "      <td>1478545022328</td>\n",
       "      <td>inicio</td>\n",
       "      <td>2830537766</td>\n",
       "      <td>A</td>\n",
       "    </tr>\n",
       "    <tr>\n",
       "      <th>100</th>\n",
       "      <td>1478520140196</td>\n",
       "      <td>inicio</td>\n",
       "      <td>190964928</td>\n",
       "      <td>B</td>\n",
       "    </tr>\n",
       "    <tr>\n",
       "      <th>101</th>\n",
       "      <td>1478560865309</td>\n",
       "      <td>inicio</td>\n",
       "      <td>4152027044</td>\n",
       "      <td>B</td>\n",
       "    </tr>\n",
       "    <tr>\n",
       "      <th>102</th>\n",
       "      <td>1478544828909</td>\n",
       "      <td>inicio</td>\n",
       "      <td>2696156667</td>\n",
       "      <td>B</td>\n",
       "    </tr>\n",
       "    <tr>\n",
       "      <th>103</th>\n",
       "      <td>1478529809985</td>\n",
       "      <td>inicio</td>\n",
       "      <td>2506455801</td>\n",
       "      <td>B</td>\n",
       "    </tr>\n",
       "    <tr>\n",
       "      <th>104</th>\n",
       "      <td>1478520591061</td>\n",
       "      <td>inicio</td>\n",
       "      <td>2986003787</td>\n",
       "      <td>A</td>\n",
       "    </tr>\n",
       "    <tr>\n",
       "      <th>105</th>\n",
       "      <td>1478529174126</td>\n",
       "      <td>inicio</td>\n",
       "      <td>1208266147</td>\n",
       "      <td>A</td>\n",
       "    </tr>\n",
       "    <tr>\n",
       "      <th>106</th>\n",
       "      <td>1478519382229</td>\n",
       "      <td>inicio</td>\n",
       "      <td>3335800841</td>\n",
       "      <td>A</td>\n",
       "    </tr>\n",
       "    <tr>\n",
       "      <th>107</th>\n",
       "      <td>1478545952692</td>\n",
       "      <td>inicio</td>\n",
       "      <td>3282163375</td>\n",
       "      <td>A</td>\n",
       "    </tr>\n",
       "  </tbody>\n",
       "</table>\n",
       "<p>108 rows × 4 columns</p>\n",
       "</div>"
      ],
      "text/plain": [
       "             tempo    tipo     user_id versao\n",
       "0    1478561058834  inicio  4110356409      B\n",
       "1    1478545030927  inicio  2830537766      A\n",
       "2    1478520186195  inicio  3796913893      B\n",
       "3    1478519211857  inicio  2986003787      B\n",
       "4    1478521546261  inicio  1817435304      A\n",
       "5    1478523411283  inicio  1600566857      A\n",
       "6    1478520653022  inicio  1561760900      A\n",
       "7    1478546662783   final  2609965679      B\n",
       "8    1478542096123  inicio  2986003787      B\n",
       "9    1478520690100  inicio  1561760900      A\n",
       "10   1478560850108  inicio  4152027044      B\n",
       "11   1478520198416   final  3796913893      B\n",
       "12   1478524240888  inicio  3386008379      B\n",
       "13   1478519429281  inicio  3335800841      A\n",
       "14   1478609993249  inicio  1857098293      A\n",
       "15   1478520211862  inicio  3796913893      B\n",
       "16   1478522040436  inicio  3224266341      A\n",
       "17   1478546068831  inicio  2609965679      B\n",
       "18   1478519063486   final   842481613      B\n",
       "19   1478526713971  inicio  3237228231      A\n",
       "20   1478602009276  inicio  2392299506      B\n",
       "21   1478536439920  inicio  4038184310      A\n",
       "22   1478545542040   final   116148368      A\n",
       "23   1478529130413  inicio  3686520904      B\n",
       "24   1478555143019  inicio  2796267476      B\n",
       "25   1478543934764  inicio  2986003787      A\n",
       "26   1478523979905  inicio  1585826857      B\n",
       "27   1478519629900  inicio  3335800841      A\n",
       "28   1478521582014  inicio  1484064589      B\n",
       "29   1478529819356  inicio  2506455801      B\n",
       "..             ...     ...         ...    ...\n",
       "78   1478610015406   final  1857098293      A\n",
       "79   1478546196842  inicio  2609965679      B\n",
       "80   1478560818571  inicio  4152027044      B\n",
       "81   1478526157686  inicio  2250801952      B\n",
       "82   1478546556228  inicio  2609965679      B\n",
       "83   1478544993209  inicio  2830537766      A\n",
       "84   1478546653665  inicio  2609965679      B\n",
       "85   1478536455352   final  4038184310      A\n",
       "86   1478544900181   final  2696156667      B\n",
       "87   1478536039947  inicio  1213412462      B\n",
       "88   1478565506954  inicio  3548116922      A\n",
       "89   1478526655826  inicio  2986003787      B\n",
       "90   1478538273229   final  3029084152      A\n",
       "91   1478524017198   final  1585826857      A\n",
       "92   1478520694333   final  1561760900      A\n",
       "93   1478519833845  inicio  2986003787      A\n",
       "94   1478546034843  inicio  2609965679      B\n",
       "95   1478560859029  inicio  4152027044      B\n",
       "96   1478521406348  inicio  2125116560      B\n",
       "97   1478519399919  inicio  3724356519      B\n",
       "98   1478529063083  inicio   609063334      A\n",
       "99   1478545022328  inicio  2830537766      A\n",
       "100  1478520140196  inicio   190964928      B\n",
       "101  1478560865309  inicio  4152027044      B\n",
       "102  1478544828909  inicio  2696156667      B\n",
       "103  1478529809985  inicio  2506455801      B\n",
       "104  1478520591061  inicio  2986003787      A\n",
       "105  1478529174126  inicio  1208266147      A\n",
       "106  1478519382229  inicio  3335800841      A\n",
       "107  1478545952692  inicio  3282163375      A\n",
       "\n",
       "[108 rows x 4 columns]"
      ]
     },
     "execution_count": 6,
     "metadata": {},
     "output_type": "execute_result"
    }
   ],
   "source": [
    "dataframe"
   ]
  },
  {
   "cell_type": "markdown",
   "metadata": {},
   "source": [
    "### Convertendo para um DataFrame de delta_t"
   ]
  },
  {
   "cell_type": "code",
   "execution_count": 7,
   "metadata": {
    "collapsed": true
   },
   "outputs": [],
   "source": [
    "agrupado = dataframe.groupby(by=[\"user_id\", \"versao\"])"
   ]
  },
  {
   "cell_type": "code",
   "execution_count": 8,
   "metadata": {
    "collapsed": false
   },
   "outputs": [],
   "source": [
    "users = set(dataframe.user_id) # We convert it to a set so that each user appear only once"
   ]
  },
  {
   "cell_type": "code",
   "execution_count": 9,
   "metadata": {
    "collapsed": false
   },
   "outputs": [],
   "source": [
    "users = list(users) "
   ]
  },
  {
   "cell_type": "code",
   "execution_count": 10,
   "metadata": {
    "collapsed": false
   },
   "outputs": [],
   "source": [
    "resultados = []\n",
    "\n",
    "for u in users:\n",
    "    for versao in [\"A\", \"B\"]:\n",
    "        if (u, versao) in agrupado.groups.keys(): # Check if a specific pair user/type of test happened\n",
    "            grupo1 =  agrupado.get_group((u, versao))\n",
    "            grupo1 = grupo1.sort_values(by=\"tempo\") # Para evitar que inícios sem fim gerem tempos negativos\n",
    "            \n",
    "            if len(grupo1[grupo1.tipo==\"final\"])>= 1 and len(grupo1[grupo1.tipo==\"inicio\"]) >= 1:\n",
    "                delta_t = grupo1[grupo1.tipo==\"final\"].iloc[-1].tempo - grupo1[grupo1.tipo==\"inicio\"].iloc[0].tempo\n",
    "                resultados.append({\"user_id\":u, \"delta_t\":delta_t, \"versao\":versao})"
   ]
  },
  {
   "cell_type": "code",
   "execution_count": 11,
   "metadata": {
    "collapsed": false
   },
   "outputs": [
    {
     "data": {
      "text/html": [
       "<div>\n",
       "<table border=\"1\" class=\"dataframe\">\n",
       "  <thead>\n",
       "    <tr style=\"text-align: right;\">\n",
       "      <th></th>\n",
       "      <th>tempo</th>\n",
       "      <th>tipo</th>\n",
       "      <th>user_id</th>\n",
       "      <th>versao</th>\n",
       "    </tr>\n",
       "  </thead>\n",
       "  <tbody>\n",
       "    <tr>\n",
       "      <th>102</th>\n",
       "      <td>1478544828909</td>\n",
       "      <td>inicio</td>\n",
       "      <td>2696156667</td>\n",
       "      <td>B</td>\n",
       "    </tr>\n",
       "    <tr>\n",
       "      <th>32</th>\n",
       "      <td>1478544864747</td>\n",
       "      <td>inicio</td>\n",
       "      <td>2696156667</td>\n",
       "      <td>B</td>\n",
       "    </tr>\n",
       "    <tr>\n",
       "      <th>86</th>\n",
       "      <td>1478544900181</td>\n",
       "      <td>final</td>\n",
       "      <td>2696156667</td>\n",
       "      <td>B</td>\n",
       "    </tr>\n",
       "  </tbody>\n",
       "</table>\n",
       "</div>"
      ],
      "text/plain": [
       "             tempo    tipo     user_id versao\n",
       "102  1478544828909  inicio  2696156667      B\n",
       "32   1478544864747  inicio  2696156667      B\n",
       "86   1478544900181   final  2696156667      B"
      ]
     },
     "execution_count": 11,
     "metadata": {},
     "output_type": "execute_result"
    }
   ],
   "source": [
    "grupo1.sort_values(by=\"tempo\")"
   ]
  },
  {
   "cell_type": "code",
   "execution_count": 12,
   "metadata": {
    "collapsed": true
   },
   "outputs": [],
   "source": [
    "dataframe_resumo = pd.DataFrame.from_records(resultados)"
   ]
  },
  {
   "cell_type": "code",
   "execution_count": 13,
   "metadata": {
    "collapsed": false
   },
   "outputs": [],
   "source": [
    "dataframe_resumo.delta_t/=1000 # Convertendo milissegundos em segundos"
   ]
  },
  {
   "cell_type": "code",
   "execution_count": 14,
   "metadata": {
    "collapsed": false
   },
   "outputs": [
    {
     "data": {
      "text/html": [
       "<div>\n",
       "<table border=\"1\" class=\"dataframe\">\n",
       "  <thead>\n",
       "    <tr style=\"text-align: right;\">\n",
       "      <th></th>\n",
       "      <th>delta_t</th>\n",
       "      <th>user_id</th>\n",
       "      <th>versao</th>\n",
       "    </tr>\n",
       "  </thead>\n",
       "  <tbody>\n",
       "    <tr>\n",
       "      <th>0</th>\n",
       "      <td>41.311</td>\n",
       "      <td>1561760900</td>\n",
       "      <td>A</td>\n",
       "    </tr>\n",
       "    <tr>\n",
       "      <th>1</th>\n",
       "      <td>13.297</td>\n",
       "      <td>116148368</td>\n",
       "      <td>A</td>\n",
       "    </tr>\n",
       "    <tr>\n",
       "      <th>2</th>\n",
       "      <td>24.232</td>\n",
       "      <td>2754007705</td>\n",
       "      <td>B</td>\n",
       "    </tr>\n",
       "    <tr>\n",
       "      <th>3</th>\n",
       "      <td>7.509</td>\n",
       "      <td>984025379</td>\n",
       "      <td>A</td>\n",
       "    </tr>\n",
       "    <tr>\n",
       "      <th>4</th>\n",
       "      <td>20.961</td>\n",
       "      <td>1585826857</td>\n",
       "      <td>A</td>\n",
       "    </tr>\n",
       "    <tr>\n",
       "      <th>5</th>\n",
       "      <td>75.802</td>\n",
       "      <td>1857098293</td>\n",
       "      <td>A</td>\n",
       "    </tr>\n",
       "    <tr>\n",
       "      <th>6</th>\n",
       "      <td>10.151</td>\n",
       "      <td>1528978230</td>\n",
       "      <td>B</td>\n",
       "    </tr>\n",
       "    <tr>\n",
       "      <th>7</th>\n",
       "      <td>6.957</td>\n",
       "      <td>1212005310</td>\n",
       "      <td>A</td>\n",
       "    </tr>\n",
       "    <tr>\n",
       "      <th>8</th>\n",
       "      <td>19.823</td>\n",
       "      <td>190964928</td>\n",
       "      <td>B</td>\n",
       "    </tr>\n",
       "    <tr>\n",
       "      <th>9</th>\n",
       "      <td>11.625</td>\n",
       "      <td>3237228231</td>\n",
       "      <td>A</td>\n",
       "    </tr>\n",
       "    <tr>\n",
       "      <th>10</th>\n",
       "      <td>24293.881</td>\n",
       "      <td>2986003787</td>\n",
       "      <td>A</td>\n",
       "    </tr>\n",
       "    <tr>\n",
       "      <th>11</th>\n",
       "      <td>7450.120</td>\n",
       "      <td>2986003787</td>\n",
       "      <td>B</td>\n",
       "    </tr>\n",
       "    <tr>\n",
       "      <th>12</th>\n",
       "      <td>11.016</td>\n",
       "      <td>842481613</td>\n",
       "      <td>B</td>\n",
       "    </tr>\n",
       "    <tr>\n",
       "      <th>13</th>\n",
       "      <td>11.032</td>\n",
       "      <td>3534175994</td>\n",
       "      <td>B</td>\n",
       "    </tr>\n",
       "    <tr>\n",
       "      <th>14</th>\n",
       "      <td>12.221</td>\n",
       "      <td>3796913893</td>\n",
       "      <td>B</td>\n",
       "    </tr>\n",
       "    <tr>\n",
       "      <th>15</th>\n",
       "      <td>12.262</td>\n",
       "      <td>1213412462</td>\n",
       "      <td>B</td>\n",
       "    </tr>\n",
       "    <tr>\n",
       "      <th>16</th>\n",
       "      <td>627.940</td>\n",
       "      <td>2609965679</td>\n",
       "      <td>B</td>\n",
       "    </tr>\n",
       "    <tr>\n",
       "      <th>17</th>\n",
       "      <td>15.432</td>\n",
       "      <td>4038184310</td>\n",
       "      <td>A</td>\n",
       "    </tr>\n",
       "    <tr>\n",
       "      <th>18</th>\n",
       "      <td>8.108</td>\n",
       "      <td>3029084152</td>\n",
       "      <td>A</td>\n",
       "    </tr>\n",
       "    <tr>\n",
       "      <th>19</th>\n",
       "      <td>71.272</td>\n",
       "      <td>2696156667</td>\n",
       "      <td>B</td>\n",
       "    </tr>\n",
       "  </tbody>\n",
       "</table>\n",
       "</div>"
      ],
      "text/plain": [
       "      delta_t     user_id versao\n",
       "0      41.311  1561760900      A\n",
       "1      13.297   116148368      A\n",
       "2      24.232  2754007705      B\n",
       "3       7.509   984025379      A\n",
       "4      20.961  1585826857      A\n",
       "5      75.802  1857098293      A\n",
       "6      10.151  1528978230      B\n",
       "7       6.957  1212005310      A\n",
       "8      19.823   190964928      B\n",
       "9      11.625  3237228231      A\n",
       "10  24293.881  2986003787      A\n",
       "11   7450.120  2986003787      B\n",
       "12     11.016   842481613      B\n",
       "13     11.032  3534175994      B\n",
       "14     12.221  3796913893      B\n",
       "15     12.262  1213412462      B\n",
       "16    627.940  2609965679      B\n",
       "17     15.432  4038184310      A\n",
       "18      8.108  3029084152      A\n",
       "19     71.272  2696156667      B"
      ]
     },
     "execution_count": 14,
     "metadata": {},
     "output_type": "execute_result"
    }
   ],
   "source": [
    "dataframe_resumo"
   ]
  },
  {
   "cell_type": "markdown",
   "metadata": {},
   "source": [
    "# Comparação dos histogramas"
   ]
  },
  {
   "cell_type": "code",
   "execution_count": 15,
   "metadata": {
    "collapsed": false
   },
   "outputs": [
    {
     "data": {
      "text/plain": [
       "(array([ 9.,  0.,  0.,  0.,  0.,  0.,  0.,  0.,  0.,  1.]),\n",
       " array([   10.151 ,   754.1479,  1498.1448,  2242.1417,  2986.1386,\n",
       "         3730.1355,  4474.1324,  5218.1293,  5962.1262,  6706.1231,  7450.12  ]),\n",
       " <a list of 10 Patch objects>)"
      ]
     },
     "execution_count": 15,
     "metadata": {},
     "output_type": "execute_result"
    },
    {
     "data": {
      "image/png": "[encoded data removed]",
      "text/plain": [
       "<matplotlib.figure.Figure at 0xaf60ba8>"
      ]
     },
     "metadata": {},
     "output_type": "display_data"
    }
   ],
   "source": [
    "tempos_A = list(dataframe_resumo[dataframe_resumo.versao==\"A\"].delta_t)\n",
    "tempos_B = list(dataframe_resumo[dataframe_resumo.versao==\"B\"].delta_t)\n",
    "plt.hist(tempos_A, bins=10)\n",
    "plt.hist(tempos_B, bins=10, alpha=0.5)"
   ]
  },
  {
   "cell_type": "markdown",
   "metadata": {
    "collapsed": true
   },
   "source": [
    "queremos ver se o tempo medio da versão B é menor que a versão A, assim:\n",
    "\n",
    "hipótese nula: B=>A\n",
    "\n",
    "hipótese alternativa: B<A"
   ]
  },
  {
   "cell_type": "code",
   "execution_count": 18,
   "metadata": {
    "collapsed": false
   },
   "outputs": [
    {
     "data": {
      "text/plain": [
       "(array([ 9.,  0.,  0.,  0.,  0.,  0.,  0.,  0.,  0.,  1.]),\n",
       " array([  6.95700000e+00,   2.43564940e+03,   4.86434180e+03,\n",
       "          7.29303420e+03,   9.72172660e+03,   1.21504190e+04,\n",
       "          1.45791114e+04,   1.70078038e+04,   1.94364962e+04,\n",
       "          2.18651886e+04,   2.42938810e+04]),\n",
       " <a list of 10 Patch objects>)"
      ]
     },
     "execution_count": 18,
     "metadata": {},
     "output_type": "execute_result"
    },
    {
     "data": {
      "image/png": "[encoded data removed]",
      "text/plain": [
       "<matplotlib.figure.Figure at 0xb951198>"
      ]
     },
     "metadata": {},
     "output_type": "display_data"
    }
   ],
   "source": [
    "plt.hist(tempos_B,alpha=0.5,bins =10)\n",
    "plt.hist(tempos_A,alpha=0.5,bins =10)"
   ]
  },
  {
   "cell_type": "code",
   "execution_count": 17,
   "metadata": {
    "collapsed": false
   },
   "outputs": [
    {
     "name": "stdout",
     "output_type": "stream",
     "text": [
      "podemos rejeitar a hipotese nula pois  0.05 >= 0.499090578066 com grau confiança de 95%\n"
     ]
    }
   ],
   "source": [
    "media_b = np.mean(tempos_B)\n",
    "n = len(tempos_B)\n",
    "\n",
    "media_a = np.mean(tempos_A)\n",
    "\n",
    "\n",
    "cov_ab = np.cov(tempos_A,tempos_B)[0][1] # calcula a covariancia, numpy retorna uma matriz,a linha 0,coluna 1 contem a covariancia de a,b\n",
    "var_ab = media_a + media_b+ 2*cov_ab # nos queremos a variancia de a+b, certo?\n",
    "dp_ab = var_ab*0.5 # desvio padrão\n",
    "\n",
    "#média padronizada com o desvio padrão amostral.\n",
    "Z = (media_b - media_a)/(dp_ab/(n**0.5))\n",
    "\n",
    "#distribuição t-student com (n-1) graus de liberdade,unicaldal a esquerda,acho que essa parte esta errada\n",
    "valor_p =(1-t.cdf(Z, df=(n-1)))\n",
    "    \n",
    "alfa = 0.05 #nivel de siginificancia de 5%\n",
    "\n",
    "if valor_p<alfa:\n",
    "    print('nos não podemos rejeitar a hipotese nula pois ',alfa,'<',valor_p,'com grau confiança de 95%')\n",
    "else:\n",
    "    print('podemos rejeitar a hipotese nula pois ',alfa,'>=',valor_p,'com grau confiança de 95%')"
   ]
  }
 ],
 "metadata": {
  "kernelspec": {
   "display_name": "Python 3",
   "language": "python",
   "name": "python3"
  },
  "language_info": {
   "codemirror_mode": {
    "name": "ipython",
    "version": 3
   },
   "file_extension": ".py",
   "mimetype": "text/x-python",
   "name": "python",
   "nbconvert_exporter": "python",
   "pygments_lexer": "ipython3",
   "version": "3.5.1"
  }
 },
 "nbformat": 4,
 "nbformat_minor": 0
}
