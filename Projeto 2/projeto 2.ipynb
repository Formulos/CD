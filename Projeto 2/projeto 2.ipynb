{
 "cells": [
  {
   "cell_type": "code",
   "execution_count": 9,
   "metadata": {
    "collapsed": true
   },
   "outputs": [],
   "source": [
    "import numpy as np\n",
    "import matplotlib.pyplot as plt\n",
    "from scipy.stats import norm, t\n",
    "%matplotlib inline"
   ]
  },
  {
   "cell_type": "markdown",
   "metadata": {},
   "source": [
    "queremos ver se o tempo medio da versão B é menor que a versão A, assim:\n",
    "\n",
    "hipótese nula: B=>A\n",
    "\n",
    "hipótese alternativa: B<A\n",
    "\n",
    "\n"
   ]
  },
  {
   "cell_type": "code",
   "execution_count": 19,
   "metadata": {
    "collapsed": false
   },
   "outputs": [
    {
     "name": "stdout",
     "output_type": "stream",
     "text": [
      "podemos rejeitar a hipotese nula pois  0.05 >= 0.665152795077 com grau confiança de 95%\n"
     ]
    }
   ],
   "source": [
    "# kelly para não mandar todos os arquivos json e tudo mais eu substitui os dados por duas listas arbitrárias\n",
    "# queriamos saber se as contas estão certas.\n",
    "\n",
    "dados_a = [2,3,4,5,6,7,8,9,9,9]\n",
    "dados_b = [0,0,1,3,4,5,6,7,8,9]\n",
    "\n",
    "\n",
    "media_b = np.mean(dados_b)\n",
    "n = len(dados_b)\n",
    "\n",
    "media_a = np.mean(dados_a)\n",
    "\n",
    "\n",
    "cov_ab = np.cov(dados_a,dados_b)[0][1] # calcula a covariancia, numpy retorna uma matriz,a linha 0,coluna 1 contem a covariancia de a,b\n",
    "var_ab = media_a + media_b+ 2*cov_ab # nos queremos a variancia de a+b, certo?\n",
    "dp_ab = var_ab*0.5 # desvio padrão\n",
    "\n",
    "#média padronizada com o desvio padrão amostral.\n",
    "Z = (media_b - media_a)/(dp_ab/(n**0.5))\n",
    "\n",
    "#distribuição t-student com (n-1) graus de liberdade,unicaldal a esquerda, não tenho certeza que essa parte esta certa\n",
    "valor_p =(1-t.cdf(Z, df=(n-1)))\n",
    "    \n",
    "alfa = 0.05 #nivel de siginificancia de 5%\n",
    "\n",
    "if valor_p<alfa:\n",
    "    print('nos não podemos rejeitar a hipotese nula pois ',alfa,'<',valor_p,'com grau confiança de 95%')\n",
    "else:\n",
    "    print('podemos rejeitar a hipotese nula pois ',alfa,'>=',valor_p,'com grau confiança de 95%')\n"
   ]
  },
  {
   "cell_type": "code",
   "execution_count": null,
   "metadata": {
    "collapsed": true
   },
   "outputs": [],
   "source": []
  }
 ],
 "metadata": {
  "kernelspec": {
   "display_name": "Python 3",
   "language": "python",
   "name": "python3"
  },
  "language_info": {
   "codemirror_mode": {
    "name": "ipython",
    "version": 3
   },
   "file_extension": ".py",
   "mimetype": "text/x-python",
   "name": "python",
   "nbconvert_exporter": "python",
   "pygments_lexer": "ipython3",
   "version": "3.5.1"
  }
 },
 "nbformat": 4,
 "nbformat_minor": 0
}
