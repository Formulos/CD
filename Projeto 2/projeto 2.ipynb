{
 "cells": [
  {
   "cell_type": "code",
   "execution_count": 1,
   "metadata": {
    "collapsed": true
   },
   "outputs": [],
   "source": [
    "import numpy as np\n",
    "import matplotlib.pyplot as plt\n",
    "from scipy.stats import norm, t\n",
    "%matplotlib inline"
   ]
  },
  {
   "cell_type": "markdown",
   "metadata": {},
   "source": [
    "hipótese nula: B<A\n",
    "\n",
    "hipótese alternativa: B=>A\n",
    "\n"
   ]
  },
  {
   "cell_type": "code",
   "execution_count": 10,
   "metadata": {
    "collapsed": false
   },
   "outputs": [
    {
     "name": "stdout",
     "output_type": "stream",
     "text": [
      "nos não podemos rejeitar a hipotese nula pois  -0.462910049886 < 0.34445724579 com grau confiança de 95%\n"
     ]
    }
   ],
   "source": [
    "dados_a = [2,3,4]\n",
    "dados_b = [1,3,4]\n",
    "\n",
    "\n",
    "media_b = np.mean(dados_b)\n",
    "dp_b = np.std(dados_b)\n",
    "n = len(dados_b)\n",
    "\n",
    "media_a = np.mean(dados_a)\n",
    "\n",
    "#média padronizada com o desvio padrão amostral.\n",
    "Z = (media_b - media_a)/(dp_b/(n**0.5))\n",
    "\n",
    "#distribuição t-student com (n-1) graus de liberdade\n",
    "valor_p = t.cdf(Z, df=(n-1))\n",
    "    \n",
    "alfa = 0.05 # ou seja 95 porcento de confiança\n",
    "\n",
    "if Z<alfa:\n",
    "    print('nos não podemos rejeitar a hipotese nula pois ',Z,'<',valor_p,'com grau confiança de 95%')\n",
    "else:\n",
    "    print('podemos rejeitar a hipotese nula pois ',Z,'>',valor_p,'com grau confiança de 95%')\n",
    "\n",
    "\n",
    "#nota não sei exatamente oque é para colocar em \"p\", se é 0.05 ou 5, nos dois casos o X parece errado\n",
    "#pois esta diferente da tabela, acho que ele recebe a porcentagem e não o z, basicamente: não que função que recebe a porcentagem\n",
    "#e devolve z\n"
   ]
  },
  {
   "cell_type": "code",
   "execution_count": 3,
   "metadata": {
    "collapsed": false
   },
   "outputs": [
    {
     "name": "stdout",
     "output_type": "stream",
     "text": [
      "0.318309886184\n"
     ]
    }
   ],
   "source": []
  },
  {
   "cell_type": "code",
   "execution_count": null,
   "metadata": {
    "collapsed": true
   },
   "outputs": [],
   "source": []
  }
 ],
 "metadata": {
  "kernelspec": {
   "display_name": "Python 3",
   "language": "python",
   "name": "python3"
  },
  "language_info": {
   "codemirror_mode": {
    "name": "ipython",
    "version": 3
   },
   "file_extension": ".py",
   "mimetype": "text/x-python",
   "name": "python",
   "nbconvert_exporter": "python",
   "pygments_lexer": "ipython3",
   "version": "3.5.1"
  }
 },
 "nbformat": 4,
 "nbformat_minor": 0
}
