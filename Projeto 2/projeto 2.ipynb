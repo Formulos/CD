{
 "cells": [
  {
   "cell_type": "markdown",
   "metadata": {},
   "source": [
    "# Projeto 2 de Ciência dos Dados - Teste A/B"
   ]
  },
  {
   "cell_type": "markdown",
   "metadata": {},
   "source": [
    "### Ana Capriles e Paulo Tozzo - Sala C"
   ]
  },
  {
   "cell_type": "markdown",
   "metadata": {},
   "source": [
    "O projeto 2 da disciplina consiste em um teste A/B. Um teste A/B é uma comparação estatística de duas páginas diferentes que \n",
    "tem como intuito medir alguma variável de interesse. Por exemplo, pode-se testar qual das duas versões oferece uma maior \n",
    "taxa de conversão, que pode ser clicar em um anúncio publicitário ou alguma outra ação do usuário."
   ]
  },
  {
   "cell_type": "markdown",
   "metadata": {},
   "source": [
    "Em nosso teste iremos comparar duas versões diferentes de uma mesma página. A tarefa do usuário consiste em encontrar um \n",
    "determinado projeto, especificado para o usuário na landing page do site do projeto. O botão que o usuário deve apertar é o \n",
    "botão \"Projeto Final\". A medição do tempo é efetuada da seguinte forma:\n",
    "    \n",
    "    Início: a versão A ou B é carregada\n",
    "    Fim: evento de clique no botão \"Projeto Final\""
   ]
  },
  {
   "cell_type": "markdown",
   "metadata": {},
   "source": [
    "A instrução que o usuário recebe consiste exatamente nas seguintes palavras: \n",
    "    \n",
    "    \"Por favor, encontre e vá até o Projeto Final\"."
   ]
  },
  {
   "cell_type": "markdown",
   "metadata": {},
   "source": [
    "https://testeab-salac.firebaseapp.com/\n",
    "\n",
    "(link para o site do projeto)"
   ]
  },
  {
   "cell_type": "markdown",
   "metadata": {},
   "source": [
    "### Versão A"
   ]
  },
  {
   "cell_type": "markdown",
   "metadata": {},
   "source": [
    "<img src=sitefoto2.png >"
   ]
  },
  {
   "cell_type": "markdown",
   "metadata": {},
   "source": [
    "### Versão B"
   ]
  },
  {
   "cell_type": "markdown",
   "metadata": {},
   "source": [
    "<img src=sitefoto1.png >"
   ]
  },
  {
   "cell_type": "markdown",
   "metadata": {},
   "source": [
    "É possível perceber que a diferença entre as versões consiste no fato de que, na versão B, é mais claro que os projetos são botões.\n",
    "na versão A, é necessário passar o mouse em cima dos nomes dos projetos para então perceber que eles mudam de cor e que são\n",
    "clicáveis. Na apresentação do nosso portfólio, na disciplina de co-design de aplicativos, percebemos que o usuário apresentou \n",
    "dificuldade em perceber a existência dos botões, então decidimos adicioná-los e criar uma versão B, fazendo so da estatística para \n",
    "determinar com um bom grau de confiança se a suspeita estava correta. Assim, o que estamos medindo é exatamente essa diferença no tempo do\n",
    "usuário para clicar no botão."
   ]
  },
  {
   "cell_type": "code",
   "execution_count": 1,
   "metadata": {
    "collapsed": true
   },
   "outputs": [],
   "source": [
    "import pandas as pd\n",
    "import json\n",
    "import itertools\n",
    "import matplotlib.pyplot as plt\n",
    "import numpy as np\n",
    "import scipy.stats\n",
    "import math\n",
    "%matplotlib inline"
   ]
  },
  {
   "cell_type": "code",
   "execution_count": 2,
   "metadata": {
    "collapsed": false
   },
   "outputs": [],
   "source": [
    "arquivo = open(\"teste-ab-export.json\")\n",
    "linhas = arquivo.readlines()\n",
    "texto = \"\".join(linhas)\n",
    "dados_fire = json.loads(texto)"
   ]
  },
  {
   "cell_type": "markdown",
   "metadata": {},
   "source": [
    "### Análise do atributo logs"
   ]
  },
  {
   "cell_type": "code",
   "execution_count": 3,
   "metadata": {
    "collapsed": false
   },
   "outputs": [],
   "source": [
    "for k,v in dados_fire[\"logs\"].items():\n",
    "    # print(k,v) # habilite para imprimir as chaves de mais alto nível\n",
    "    for chave, valor in v.items():\n",
    "        # print(chave, valor) # habilite para imprimir as chaves inferiores\n",
    "        pass # desabilite quando reabilitar a linha de cima\n",
    "\n"
   ]
  },
  {
   "cell_type": "markdown",
   "metadata": {},
   "source": [
    "### Convertendo para um dataframe"
   ]
  },
  {
   "cell_type": "code",
   "execution_count": 4,
   "metadata": {
    "collapsed": false
   },
   "outputs": [],
   "source": [
    "lista_dicionarios = []\n",
    "\n",
    "for k,v in dados_fire[\"logs\"].items():\n",
    "    lista_dicionarios.append(v)\n",
    "\n",
    "dataframe = pd.DataFrame.from_records(lista_dicionarios)"
   ]
  },
  {
   "cell_type": "code",
   "execution_count": 5,
   "metadata": {
    "collapsed": false,
    "scrolled": true
   },
   "outputs": [
    {
     "data": {
      "text/html": [
       "<div>\n",
       "<table border=\"1\" class=\"dataframe\">\n",
       "  <thead>\n",
       "    <tr style=\"text-align: right;\">\n",
       "      <th></th>\n",
       "      <th>tempo</th>\n",
       "      <th>tipo</th>\n",
       "      <th>user_id</th>\n",
       "      <th>versao</th>\n",
       "    </tr>\n",
       "  </thead>\n",
       "  <tbody>\n",
       "    <tr>\n",
       "      <th>0</th>\n",
       "      <td>1478519346204</td>\n",
       "      <td>inicio</td>\n",
       "      <td>2754007705</td>\n",
       "      <td>B</td>\n",
       "    </tr>\n",
       "    <tr>\n",
       "      <th>1</th>\n",
       "      <td>1478526157686</td>\n",
       "      <td>inicio</td>\n",
       "      <td>2250801952</td>\n",
       "      <td>B</td>\n",
       "    </tr>\n",
       "    <tr>\n",
       "      <th>2</th>\n",
       "      <td>1478521406348</td>\n",
       "      <td>inicio</td>\n",
       "      <td>2125116560</td>\n",
       "      <td>B</td>\n",
       "    </tr>\n",
       "    <tr>\n",
       "      <th>3</th>\n",
       "      <td>1478555092306</td>\n",
       "      <td>inicio</td>\n",
       "      <td>2796267476</td>\n",
       "      <td>B</td>\n",
       "    </tr>\n",
       "    <tr>\n",
       "      <th>4</th>\n",
       "      <td>1478609993249</td>\n",
       "      <td>inicio</td>\n",
       "      <td>1857098293</td>\n",
       "      <td>A</td>\n",
       "    </tr>\n",
       "    <tr>\n",
       "      <th>5</th>\n",
       "      <td>1478543934764</td>\n",
       "      <td>inicio</td>\n",
       "      <td>2986003787</td>\n",
       "      <td>A</td>\n",
       "    </tr>\n",
       "    <tr>\n",
       "      <th>6</th>\n",
       "      <td>1478543367395</td>\n",
       "      <td>inicio</td>\n",
       "      <td>1212005310</td>\n",
       "      <td>A</td>\n",
       "    </tr>\n",
       "    <tr>\n",
       "      <th>7</th>\n",
       "      <td>1478519629900</td>\n",
       "      <td>inicio</td>\n",
       "      <td>3335800841</td>\n",
       "      <td>A</td>\n",
       "    </tr>\n",
       "    <tr>\n",
       "      <th>8</th>\n",
       "      <td>1478548766406</td>\n",
       "      <td>inicio</td>\n",
       "      <td>1179378292</td>\n",
       "      <td>A</td>\n",
       "    </tr>\n",
       "    <tr>\n",
       "      <th>9</th>\n",
       "      <td>1478602009276</td>\n",
       "      <td>inicio</td>\n",
       "      <td>2392299506</td>\n",
       "      <td>B</td>\n",
       "    </tr>\n",
       "    <tr>\n",
       "      <th>10</th>\n",
       "      <td>1478529174126</td>\n",
       "      <td>inicio</td>\n",
       "      <td>1208266147</td>\n",
       "      <td>A</td>\n",
       "    </tr>\n",
       "    <tr>\n",
       "      <th>11</th>\n",
       "      <td>1478546607175</td>\n",
       "      <td>inicio</td>\n",
       "      <td>2609965679</td>\n",
       "      <td>B</td>\n",
       "    </tr>\n",
       "    <tr>\n",
       "      <th>12</th>\n",
       "      <td>1478519436859</td>\n",
       "      <td>inicio</td>\n",
       "      <td>1798525136</td>\n",
       "      <td>A</td>\n",
       "    </tr>\n",
       "    <tr>\n",
       "      <th>13</th>\n",
       "      <td>1478536052209</td>\n",
       "      <td>final</td>\n",
       "      <td>1213412462</td>\n",
       "      <td>B</td>\n",
       "    </tr>\n",
       "    <tr>\n",
       "      <th>14</th>\n",
       "      <td>1478543374352</td>\n",
       "      <td>final</td>\n",
       "      <td>1212005310</td>\n",
       "      <td>A</td>\n",
       "    </tr>\n",
       "    <tr>\n",
       "      <th>15</th>\n",
       "      <td>1478520725538</td>\n",
       "      <td>inicio</td>\n",
       "      <td>3899117471</td>\n",
       "      <td>B</td>\n",
       "    </tr>\n",
       "    <tr>\n",
       "      <th>16</th>\n",
       "      <td>1478520979775</td>\n",
       "      <td>inicio</td>\n",
       "      <td>916975793</td>\n",
       "      <td>B</td>\n",
       "    </tr>\n",
       "    <tr>\n",
       "      <th>17</th>\n",
       "      <td>1478524240888</td>\n",
       "      <td>inicio</td>\n",
       "      <td>3386008379</td>\n",
       "      <td>B</td>\n",
       "    </tr>\n",
       "    <tr>\n",
       "      <th>18</th>\n",
       "      <td>1478523383036</td>\n",
       "      <td>inicio</td>\n",
       "      <td>1600566857</td>\n",
       "      <td>A</td>\n",
       "    </tr>\n",
       "    <tr>\n",
       "      <th>19</th>\n",
       "      <td>1478520690100</td>\n",
       "      <td>inicio</td>\n",
       "      <td>1561760900</td>\n",
       "      <td>A</td>\n",
       "    </tr>\n",
       "    <tr>\n",
       "      <th>20</th>\n",
       "      <td>1478520594805</td>\n",
       "      <td>final</td>\n",
       "      <td>2986003787</td>\n",
       "      <td>A</td>\n",
       "    </tr>\n",
       "    <tr>\n",
       "      <th>21</th>\n",
       "      <td>1478519399919</td>\n",
       "      <td>inicio</td>\n",
       "      <td>3724356519</td>\n",
       "      <td>B</td>\n",
       "    </tr>\n",
       "    <tr>\n",
       "      <th>22</th>\n",
       "      <td>1478529130413</td>\n",
       "      <td>inicio</td>\n",
       "      <td>3686520904</td>\n",
       "      <td>B</td>\n",
       "    </tr>\n",
       "    <tr>\n",
       "      <th>23</th>\n",
       "      <td>1478555143019</td>\n",
       "      <td>inicio</td>\n",
       "      <td>2796267476</td>\n",
       "      <td>B</td>\n",
       "    </tr>\n",
       "    <tr>\n",
       "      <th>24</th>\n",
       "      <td>1478518876922</td>\n",
       "      <td>inicio</td>\n",
       "      <td>3534175994</td>\n",
       "      <td>B</td>\n",
       "    </tr>\n",
       "    <tr>\n",
       "      <th>25</th>\n",
       "      <td>1478523443793</td>\n",
       "      <td>inicio</td>\n",
       "      <td>1600566857</td>\n",
       "      <td>A</td>\n",
       "    </tr>\n",
       "    <tr>\n",
       "      <th>26</th>\n",
       "      <td>1478610015406</td>\n",
       "      <td>final</td>\n",
       "      <td>1857098293</td>\n",
       "      <td>A</td>\n",
       "    </tr>\n",
       "    <tr>\n",
       "      <th>27</th>\n",
       "      <td>1478546653665</td>\n",
       "      <td>inicio</td>\n",
       "      <td>2609965679</td>\n",
       "      <td>B</td>\n",
       "    </tr>\n",
       "    <tr>\n",
       "      <th>28</th>\n",
       "      <td>1478565506954</td>\n",
       "      <td>inicio</td>\n",
       "      <td>3548116922</td>\n",
       "      <td>A</td>\n",
       "    </tr>\n",
       "    <tr>\n",
       "      <th>29</th>\n",
       "      <td>1478523411283</td>\n",
       "      <td>inicio</td>\n",
       "      <td>1600566857</td>\n",
       "      <td>A</td>\n",
       "    </tr>\n",
       "    <tr>\n",
       "      <th>...</th>\n",
       "      <td>...</td>\n",
       "      <td>...</td>\n",
       "      <td>...</td>\n",
       "      <td>...</td>\n",
       "    </tr>\n",
       "    <tr>\n",
       "      <th>78</th>\n",
       "      <td>1478520186195</td>\n",
       "      <td>inicio</td>\n",
       "      <td>3796913893</td>\n",
       "      <td>B</td>\n",
       "    </tr>\n",
       "    <tr>\n",
       "      <th>79</th>\n",
       "      <td>1478545030927</td>\n",
       "      <td>inicio</td>\n",
       "      <td>2830537766</td>\n",
       "      <td>A</td>\n",
       "    </tr>\n",
       "    <tr>\n",
       "      <th>80</th>\n",
       "      <td>1478546068831</td>\n",
       "      <td>inicio</td>\n",
       "      <td>2609965679</td>\n",
       "      <td>B</td>\n",
       "    </tr>\n",
       "    <tr>\n",
       "      <th>81</th>\n",
       "      <td>1478519063486</td>\n",
       "      <td>final</td>\n",
       "      <td>842481613</td>\n",
       "      <td>B</td>\n",
       "    </tr>\n",
       "    <tr>\n",
       "      <th>82</th>\n",
       "      <td>1478560818571</td>\n",
       "      <td>inicio</td>\n",
       "      <td>4152027044</td>\n",
       "      <td>B</td>\n",
       "    </tr>\n",
       "    <tr>\n",
       "      <th>83</th>\n",
       "      <td>1478536455352</td>\n",
       "      <td>final</td>\n",
       "      <td>4038184310</td>\n",
       "      <td>A</td>\n",
       "    </tr>\n",
       "    <tr>\n",
       "      <th>84</th>\n",
       "      <td>1478538273229</td>\n",
       "      <td>final</td>\n",
       "      <td>3029084152</td>\n",
       "      <td>A</td>\n",
       "    </tr>\n",
       "    <tr>\n",
       "      <th>85</th>\n",
       "      <td>1478526724389</td>\n",
       "      <td>inicio</td>\n",
       "      <td>1528978230</td>\n",
       "      <td>B</td>\n",
       "    </tr>\n",
       "    <tr>\n",
       "      <th>86</th>\n",
       "      <td>1478544993209</td>\n",
       "      <td>inicio</td>\n",
       "      <td>2830537766</td>\n",
       "      <td>A</td>\n",
       "    </tr>\n",
       "    <tr>\n",
       "      <th>87</th>\n",
       "      <td>1478529140905</td>\n",
       "      <td>inicio</td>\n",
       "      <td>1208266147</td>\n",
       "      <td>A</td>\n",
       "    </tr>\n",
       "    <tr>\n",
       "      <th>88</th>\n",
       "      <td>1478538265121</td>\n",
       "      <td>inicio</td>\n",
       "      <td>3029084152</td>\n",
       "      <td>A</td>\n",
       "    </tr>\n",
       "    <tr>\n",
       "      <th>89</th>\n",
       "      <td>1478519270447</td>\n",
       "      <td>final</td>\n",
       "      <td>3724356519</td>\n",
       "      <td>A</td>\n",
       "    </tr>\n",
       "    <tr>\n",
       "      <th>90</th>\n",
       "      <td>1478544900181</td>\n",
       "      <td>final</td>\n",
       "      <td>2696156667</td>\n",
       "      <td>B</td>\n",
       "    </tr>\n",
       "    <tr>\n",
       "      <th>91</th>\n",
       "      <td>1478545544505</td>\n",
       "      <td>inicio</td>\n",
       "      <td>1154051230</td>\n",
       "      <td>A</td>\n",
       "    </tr>\n",
       "    <tr>\n",
       "      <th>92</th>\n",
       "      <td>1478526655826</td>\n",
       "      <td>inicio</td>\n",
       "      <td>2986003787</td>\n",
       "      <td>B</td>\n",
       "    </tr>\n",
       "    <tr>\n",
       "      <th>93</th>\n",
       "      <td>1478519223816</td>\n",
       "      <td>inicio</td>\n",
       "      <td>514803398</td>\n",
       "      <td>A</td>\n",
       "    </tr>\n",
       "    <tr>\n",
       "      <th>94</th>\n",
       "      <td>1478610006503</td>\n",
       "      <td>inicio</td>\n",
       "      <td>1857098293</td>\n",
       "      <td>A</td>\n",
       "    </tr>\n",
       "    <tr>\n",
       "      <th>95</th>\n",
       "      <td>1478526725596</td>\n",
       "      <td>final</td>\n",
       "      <td>3237228231</td>\n",
       "      <td>A</td>\n",
       "    </tr>\n",
       "    <tr>\n",
       "      <th>96</th>\n",
       "      <td>1478542116419</td>\n",
       "      <td>inicio</td>\n",
       "      <td>2986003787</td>\n",
       "      <td>A</td>\n",
       "    </tr>\n",
       "    <tr>\n",
       "      <th>97</th>\n",
       "      <td>1478544864747</td>\n",
       "      <td>inicio</td>\n",
       "      <td>2696156667</td>\n",
       "      <td>B</td>\n",
       "    </tr>\n",
       "    <tr>\n",
       "      <th>98</th>\n",
       "      <td>1478545528743</td>\n",
       "      <td>inicio</td>\n",
       "      <td>116148368</td>\n",
       "      <td>A</td>\n",
       "    </tr>\n",
       "    <tr>\n",
       "      <th>99</th>\n",
       "      <td>1478546556228</td>\n",
       "      <td>inicio</td>\n",
       "      <td>2609965679</td>\n",
       "      <td>B</td>\n",
       "    </tr>\n",
       "    <tr>\n",
       "      <th>100</th>\n",
       "      <td>1478545278556</td>\n",
       "      <td>inicio</td>\n",
       "      <td>3563937844</td>\n",
       "      <td>A</td>\n",
       "    </tr>\n",
       "    <tr>\n",
       "      <th>101</th>\n",
       "      <td>1478520160019</td>\n",
       "      <td>final</td>\n",
       "      <td>190964928</td>\n",
       "      <td>B</td>\n",
       "    </tr>\n",
       "    <tr>\n",
       "      <th>102</th>\n",
       "      <td>1478555773374</td>\n",
       "      <td>inicio</td>\n",
       "      <td>4232409040</td>\n",
       "      <td>A</td>\n",
       "    </tr>\n",
       "    <tr>\n",
       "      <th>103</th>\n",
       "      <td>1478519211857</td>\n",
       "      <td>inicio</td>\n",
       "      <td>2986003787</td>\n",
       "      <td>B</td>\n",
       "    </tr>\n",
       "    <tr>\n",
       "      <th>104</th>\n",
       "      <td>1478519370436</td>\n",
       "      <td>final</td>\n",
       "      <td>2754007705</td>\n",
       "      <td>B</td>\n",
       "    </tr>\n",
       "    <tr>\n",
       "      <th>105</th>\n",
       "      <td>1478545022328</td>\n",
       "      <td>inicio</td>\n",
       "      <td>2830537766</td>\n",
       "      <td>A</td>\n",
       "    </tr>\n",
       "    <tr>\n",
       "      <th>106</th>\n",
       "      <td>1478546662783</td>\n",
       "      <td>final</td>\n",
       "      <td>2609965679</td>\n",
       "      <td>B</td>\n",
       "    </tr>\n",
       "    <tr>\n",
       "      <th>107</th>\n",
       "      <td>1478544404644</td>\n",
       "      <td>inicio</td>\n",
       "      <td>1172582373</td>\n",
       "      <td>A</td>\n",
       "    </tr>\n",
       "  </tbody>\n",
       "</table>\n",
       "<p>108 rows × 4 columns</p>\n",
       "</div>"
      ],
      "text/plain": [
       "             tempo    tipo     user_id versao\n",
       "0    1478519346204  inicio  2754007705      B\n",
       "1    1478526157686  inicio  2250801952      B\n",
       "2    1478521406348  inicio  2125116560      B\n",
       "3    1478555092306  inicio  2796267476      B\n",
       "4    1478609993249  inicio  1857098293      A\n",
       "5    1478543934764  inicio  2986003787      A\n",
       "6    1478543367395  inicio  1212005310      A\n",
       "7    1478519629900  inicio  3335800841      A\n",
       "8    1478548766406  inicio  1179378292      A\n",
       "9    1478602009276  inicio  2392299506      B\n",
       "10   1478529174126  inicio  1208266147      A\n",
       "11   1478546607175  inicio  2609965679      B\n",
       "12   1478519436859  inicio  1798525136      A\n",
       "13   1478536052209   final  1213412462      B\n",
       "14   1478543374352   final  1212005310      A\n",
       "15   1478520725538  inicio  3899117471      B\n",
       "16   1478520979775  inicio   916975793      B\n",
       "17   1478524240888  inicio  3386008379      B\n",
       "18   1478523383036  inicio  1600566857      A\n",
       "19   1478520690100  inicio  1561760900      A\n",
       "20   1478520594805   final  2986003787      A\n",
       "21   1478519399919  inicio  3724356519      B\n",
       "22   1478529130413  inicio  3686520904      B\n",
       "23   1478555143019  inicio  2796267476      B\n",
       "24   1478518876922  inicio  3534175994      B\n",
       "25   1478523443793  inicio  1600566857      A\n",
       "26   1478610015406   final  1857098293      A\n",
       "27   1478546653665  inicio  2609965679      B\n",
       "28   1478565506954  inicio  3548116922      A\n",
       "29   1478523411283  inicio  1600566857      A\n",
       "..             ...     ...         ...    ...\n",
       "78   1478520186195  inicio  3796913893      B\n",
       "79   1478545030927  inicio  2830537766      A\n",
       "80   1478546068831  inicio  2609965679      B\n",
       "81   1478519063486   final   842481613      B\n",
       "82   1478560818571  inicio  4152027044      B\n",
       "83   1478536455352   final  4038184310      A\n",
       "84   1478538273229   final  3029084152      A\n",
       "85   1478526724389  inicio  1528978230      B\n",
       "86   1478544993209  inicio  2830537766      A\n",
       "87   1478529140905  inicio  1208266147      A\n",
       "88   1478538265121  inicio  3029084152      A\n",
       "89   1478519270447   final  3724356519      A\n",
       "90   1478544900181   final  2696156667      B\n",
       "91   1478545544505  inicio  1154051230      A\n",
       "92   1478526655826  inicio  2986003787      B\n",
       "93   1478519223816  inicio   514803398      A\n",
       "94   1478610006503  inicio  1857098293      A\n",
       "95   1478526725596   final  3237228231      A\n",
       "96   1478542116419  inicio  2986003787      A\n",
       "97   1478544864747  inicio  2696156667      B\n",
       "98   1478545528743  inicio   116148368      A\n",
       "99   1478546556228  inicio  2609965679      B\n",
       "100  1478545278556  inicio  3563937844      A\n",
       "101  1478520160019   final   190964928      B\n",
       "102  1478555773374  inicio  4232409040      A\n",
       "103  1478519211857  inicio  2986003787      B\n",
       "104  1478519370436   final  2754007705      B\n",
       "105  1478545022328  inicio  2830537766      A\n",
       "106  1478546662783   final  2609965679      B\n",
       "107  1478544404644  inicio  1172582373      A\n",
       "\n",
       "[108 rows x 4 columns]"
      ]
     },
     "execution_count": 5,
     "metadata": {},
     "output_type": "execute_result"
    }
   ],
   "source": [
    "dataframe"
   ]
  },
  {
   "cell_type": "markdown",
   "metadata": {},
   "source": [
    "### Convertendo para um DataFrame com as diferenças entre o tempo final e inicial"
   ]
  },
  {
   "cell_type": "code",
   "execution_count": 6,
   "metadata": {
    "collapsed": true
   },
   "outputs": [],
   "source": [
    "agrupado = dataframe.groupby(by=[\"user_id\", \"versao\"])\n",
    "users = set(dataframe.user_id) # We convert it to a set so that each user appear only once\n",
    "users = list(users) "
   ]
  },
  {
   "cell_type": "code",
   "execution_count": 7,
   "metadata": {
    "collapsed": false
   },
   "outputs": [],
   "source": [
    "resultados = []\n",
    "\n",
    "for u in users:\n",
    "    for versao in [\"A\", \"B\"]:\n",
    "        if (u, versao) in agrupado.groups.keys(): # Check if a specific pair user/type of test happened\n",
    "            grupo1 =  agrupado.get_group((u, versao))\n",
    "            grupo1 = grupo1.sort_values(by=\"tempo\") # Para evitar que inícios sem fim gerem tempos negativos\n",
    "            \n",
    "            if len(grupo1[grupo1.tipo==\"final\"])>= 1 and len(grupo1[grupo1.tipo==\"inicio\"]) >= 1:\n",
    "                delta_t = grupo1[grupo1.tipo==\"final\"].iloc[-1].tempo - grupo1[grupo1.tipo==\"inicio\"].iloc[0].tempo\n",
    "                resultados.append({\"user_id\":u, \"delta_t\":delta_t, \"versao\":versao})"
   ]
  },
  {
   "cell_type": "code",
   "execution_count": 8,
   "metadata": {
    "collapsed": false
   },
   "outputs": [
    {
     "data": {
      "text/html": [
       "<div>\n",
       "<table border=\"1\" class=\"dataframe\">\n",
       "  <thead>\n",
       "    <tr style=\"text-align: right;\">\n",
       "      <th></th>\n",
       "      <th>tempo</th>\n",
       "      <th>tipo</th>\n",
       "      <th>user_id</th>\n",
       "      <th>versao</th>\n",
       "    </tr>\n",
       "  </thead>\n",
       "  <tbody>\n",
       "    <tr>\n",
       "      <th>59</th>\n",
       "      <td>1478544828909</td>\n",
       "      <td>inicio</td>\n",
       "      <td>2696156667</td>\n",
       "      <td>B</td>\n",
       "    </tr>\n",
       "    <tr>\n",
       "      <th>97</th>\n",
       "      <td>1478544864747</td>\n",
       "      <td>inicio</td>\n",
       "      <td>2696156667</td>\n",
       "      <td>B</td>\n",
       "    </tr>\n",
       "    <tr>\n",
       "      <th>90</th>\n",
       "      <td>1478544900181</td>\n",
       "      <td>final</td>\n",
       "      <td>2696156667</td>\n",
       "      <td>B</td>\n",
       "    </tr>\n",
       "  </tbody>\n",
       "</table>\n",
       "</div>"
      ],
      "text/plain": [
       "            tempo    tipo     user_id versao\n",
       "59  1478544828909  inicio  2696156667      B\n",
       "97  1478544864747  inicio  2696156667      B\n",
       "90  1478544900181   final  2696156667      B"
      ]
     },
     "execution_count": 8,
     "metadata": {},
     "output_type": "execute_result"
    }
   ],
   "source": [
    "grupo1.sort_values(by=\"tempo\")"
   ]
  },
  {
   "cell_type": "code",
   "execution_count": 9,
   "metadata": {
    "collapsed": true
   },
   "outputs": [],
   "source": [
    "dataframe_resumo = pd.DataFrame.from_records(resultados)\n",
    "dataframe_resumo.delta_t/=1000 # Convertendo milissegundos em segundos"
   ]
  },
  {
   "cell_type": "code",
   "execution_count": 10,
   "metadata": {
    "collapsed": false
   },
   "outputs": [
    {
     "data": {
      "text/html": [
       "<div>\n",
       "<table border=\"1\" class=\"dataframe\">\n",
       "  <thead>\n",
       "    <tr style=\"text-align: right;\">\n",
       "      <th></th>\n",
       "      <th>delta_t</th>\n",
       "      <th>user_id</th>\n",
       "      <th>versao</th>\n",
       "    </tr>\n",
       "  </thead>\n",
       "  <tbody>\n",
       "    <tr>\n",
       "      <th>0</th>\n",
       "      <td>41.311</td>\n",
       "      <td>1561760900</td>\n",
       "      <td>A</td>\n",
       "    </tr>\n",
       "    <tr>\n",
       "      <th>1</th>\n",
       "      <td>13.297</td>\n",
       "      <td>116148368</td>\n",
       "      <td>A</td>\n",
       "    </tr>\n",
       "    <tr>\n",
       "      <th>2</th>\n",
       "      <td>24.232</td>\n",
       "      <td>2754007705</td>\n",
       "      <td>B</td>\n",
       "    </tr>\n",
       "    <tr>\n",
       "      <th>3</th>\n",
       "      <td>7.509</td>\n",
       "      <td>984025379</td>\n",
       "      <td>A</td>\n",
       "    </tr>\n",
       "    <tr>\n",
       "      <th>4</th>\n",
       "      <td>20.961</td>\n",
       "      <td>1585826857</td>\n",
       "      <td>A</td>\n",
       "    </tr>\n",
       "    <tr>\n",
       "      <th>5</th>\n",
       "      <td>75.802</td>\n",
       "      <td>1857098293</td>\n",
       "      <td>A</td>\n",
       "    </tr>\n",
       "    <tr>\n",
       "      <th>6</th>\n",
       "      <td>10.151</td>\n",
       "      <td>1528978230</td>\n",
       "      <td>B</td>\n",
       "    </tr>\n",
       "    <tr>\n",
       "      <th>7</th>\n",
       "      <td>6.957</td>\n",
       "      <td>1212005310</td>\n",
       "      <td>A</td>\n",
       "    </tr>\n",
       "    <tr>\n",
       "      <th>8</th>\n",
       "      <td>19.823</td>\n",
       "      <td>190964928</td>\n",
       "      <td>B</td>\n",
       "    </tr>\n",
       "    <tr>\n",
       "      <th>9</th>\n",
       "      <td>11.625</td>\n",
       "      <td>3237228231</td>\n",
       "      <td>A</td>\n",
       "    </tr>\n",
       "    <tr>\n",
       "      <th>10</th>\n",
       "      <td>24293.881</td>\n",
       "      <td>2986003787</td>\n",
       "      <td>A</td>\n",
       "    </tr>\n",
       "    <tr>\n",
       "      <th>11</th>\n",
       "      <td>7450.120</td>\n",
       "      <td>2986003787</td>\n",
       "      <td>B</td>\n",
       "    </tr>\n",
       "    <tr>\n",
       "      <th>12</th>\n",
       "      <td>11.016</td>\n",
       "      <td>842481613</td>\n",
       "      <td>B</td>\n",
       "    </tr>\n",
       "    <tr>\n",
       "      <th>13</th>\n",
       "      <td>12.221</td>\n",
       "      <td>3796913893</td>\n",
       "      <td>B</td>\n",
       "    </tr>\n",
       "    <tr>\n",
       "      <th>14</th>\n",
       "      <td>12.262</td>\n",
       "      <td>1213412462</td>\n",
       "      <td>B</td>\n",
       "    </tr>\n",
       "    <tr>\n",
       "      <th>15</th>\n",
       "      <td>627.940</td>\n",
       "      <td>2609965679</td>\n",
       "      <td>B</td>\n",
       "    </tr>\n",
       "    <tr>\n",
       "      <th>16</th>\n",
       "      <td>15.432</td>\n",
       "      <td>4038184310</td>\n",
       "      <td>A</td>\n",
       "    </tr>\n",
       "    <tr>\n",
       "      <th>17</th>\n",
       "      <td>8.108</td>\n",
       "      <td>3029084152</td>\n",
       "      <td>A</td>\n",
       "    </tr>\n",
       "    <tr>\n",
       "      <th>18</th>\n",
       "      <td>11.032</td>\n",
       "      <td>3534175994</td>\n",
       "      <td>B</td>\n",
       "    </tr>\n",
       "    <tr>\n",
       "      <th>19</th>\n",
       "      <td>71.272</td>\n",
       "      <td>2696156667</td>\n",
       "      <td>B</td>\n",
       "    </tr>\n",
       "  </tbody>\n",
       "</table>\n",
       "</div>"
      ],
      "text/plain": [
       "      delta_t     user_id versao\n",
       "0      41.311  1561760900      A\n",
       "1      13.297   116148368      A\n",
       "2      24.232  2754007705      B\n",
       "3       7.509   984025379      A\n",
       "4      20.961  1585826857      A\n",
       "5      75.802  1857098293      A\n",
       "6      10.151  1528978230      B\n",
       "7       6.957  1212005310      A\n",
       "8      19.823   190964928      B\n",
       "9      11.625  3237228231      A\n",
       "10  24293.881  2986003787      A\n",
       "11   7450.120  2986003787      B\n",
       "12     11.016   842481613      B\n",
       "13     12.221  3796913893      B\n",
       "14     12.262  1213412462      B\n",
       "15    627.940  2609965679      B\n",
       "16     15.432  4038184310      A\n",
       "17      8.108  3029084152      A\n",
       "18     11.032  3534175994      B\n",
       "19     71.272  2696156667      B"
      ]
     },
     "execution_count": 10,
     "metadata": {},
     "output_type": "execute_result"
    }
   ],
   "source": [
    "dataframe_resumo"
   ]
  },
  {
   "cell_type": "markdown",
   "metadata": {},
   "source": [
    "É possível ver que conseguimos obter 108 entradas, logo foi obtido um bom número de usuários."
   ]
  },
  {
   "cell_type": "markdown",
   "metadata": {},
   "source": [
    "# Teste de hipóteses"
   ]
  },
  {
   "cell_type": "code",
   "execution_count": 11,
   "metadata": {
    "collapsed": false
   },
   "outputs": [],
   "source": [
    "tempos_A = list(dataframe_resumo[dataframe_resumo.versao==\"A\"].delta_t)\n",
    "tempos_B = list(dataframe_resumo[dataframe_resumo.versao==\"B\"].delta_t)\n",
    "tempos_ma= []\n",
    "tempos_mb = []\n",
    "\n",
    "\n",
    "for i in tempos_A: #retira todo mundo que demorou mais de 2 minutos, de forma a excluir quem não terminou a tarefa\n",
    "    if i<= 120:\n",
    "        tempos_ma.append(i)\n",
    "for i in tempos_B:\n",
    "    if i<= 120:\n",
    "        tempos_mb.append(i)\n",
    "\n",
    "tempos_A = list(tempos_ma)\n",
    "tempos_B = list(tempos_mb)"
   ]
  },
  {
   "cell_type": "code",
   "execution_count": 12,
   "metadata": {
    "collapsed": false
   },
   "outputs": [
    {
     "data": {
      "text/html": [
       "<div>\n",
       "<table border=\"1\" class=\"dataframe\">\n",
       "  <thead>\n",
       "    <tr style=\"text-align: right;\">\n",
       "      <th></th>\n",
       "      <th>media</th>\n",
       "      <th>mediana</th>\n",
       "      <th>variancia</th>\n",
       "    </tr>\n",
       "  </thead>\n",
       "  <tbody>\n",
       "    <tr>\n",
       "      <th>A</th>\n",
       "      <td>22.333556</td>\n",
       "      <td>13.2970</td>\n",
       "      <td>458.159796</td>\n",
       "    </tr>\n",
       "    <tr>\n",
       "      <th>B</th>\n",
       "      <td>21.501125</td>\n",
       "      <td>12.2415</td>\n",
       "      <td>375.907712</td>\n",
       "    </tr>\n",
       "  </tbody>\n",
       "</table>\n",
       "</div>"
      ],
      "text/plain": [
       "       media  mediana   variancia\n",
       "A  22.333556  13.2970  458.159796\n",
       "B  21.501125  12.2415  375.907712"
      ]
     },
     "execution_count": 12,
     "metadata": {},
     "output_type": "execute_result"
    }
   ],
   "source": [
    "tabela = pd.DataFrame([[np.mean(tempos_A),np.median(tempos_A),np.var(tempos_A)],[np.mean(tempos_B),np.median(tempos_B),np.var(tempos_B)]])\n",
    "tabela.index = [\"A\",\"B\"]\n",
    "tabela.columns = [\"media\",\"mediana\",\"variancia\"]\n",
    "tabela"
   ]
  },
  {
   "cell_type": "code",
   "execution_count": 13,
   "metadata": {
    "collapsed": false
   },
   "outputs": [
    {
     "data": {
      "text/plain": [
       "(array([ 0.03125 ,  0.0625  ,  0.015625,  0.      ,  0.      ,  0.015625,\n",
       "         0.      ,  0.      ,  0.      ]),\n",
       " array([ 0,  8, 16, 24, 32, 40, 48, 56, 64, 72]),\n",
       " <a list of 9 Patch objects>)"
      ]
     },
     "execution_count": 13,
     "metadata": {},
     "output_type": "execute_result"
    },
    {
     "data": {
      "image/png": "[encoded data removed]",
      "text/plain": [
       "<matplotlib.figure.Figure at 0xaf7bc18>"
      ]
     },
     "metadata": {},
     "output_type": "display_data"
    }
   ],
   "source": [
    "faixa =  np.arange(0,80,8)\n",
    "plt.hist(tempos_B,alpha=0.5,bins =faixa,normed=1)\n",
    "plt.hist(tempos_A,alpha=0.5,bins =faixa,normed=1)"
   ]
  },
  {
   "cell_type": "markdown",
   "metadata": {
    "collapsed": true
   },
   "source": [
    "Para confirmar a previsão empregaremos um teste de hipóteses para verificar se o site B é melhor que o site A.\n",
    "A nossa hipótese é que o tempo médio de B é menor que o tempo médio de A (B<A), assim:\n",
    "    \n",
    "    Hipótese nula (H0): B-A = 0\n",
    "    Hipótese alternativa (H1): B-A > 0"
   ]
  },
  {
   "cell_type": "code",
   "execution_count": 14,
   "metadata": {
    "collapsed": false
   },
   "outputs": [],
   "source": [
    "media_b = np.mean(tempos_B)\n",
    "var_b = np.var(tempos_B)\n",
    "\n",
    "media_a = np.mean(tempos_A)\n",
    "var_a = np.var(tempos_A)"
   ]
  },
  {
   "cell_type": "markdown",
   "metadata": {},
   "source": [
    "### Média padronizada:"
   ]
  },
  {
   "cell_type": "code",
   "execution_count": 15,
   "metadata": {
    "collapsed": true
   },
   "outputs": [],
   "source": [
    "T = (media_b - media_a)/(math.sqrt(((var_a**2)/len(tempos_A)) + ((var_b**2)/len(tempos_B))))"
   ]
  },
  {
   "cell_type": "markdown",
   "metadata": {},
   "source": [
    "### Cálculo de v e correção dos graus de liberdade\n",
    "O cálculo foi dividido em três partes para facilitar a compreensão e evitar erros de sintaxe"
   ]
  },
  {
   "cell_type": "code",
   "execution_count": 16,
   "metadata": {
    "collapsed": true
   },
   "outputs": [],
   "source": [
    "part1 = (((var_a**2)/len(tempos_A))**2)/(len(tempos_A) - 1)\n",
    "part2 = (((var_b**2)/len(tempos_B))**2)/(len(tempos_B) - 1)                     \n",
    "part3 =((((var_a**2)/len(tempos_A))) + (((var_b**2)/len(tempos_B)))) **2\n",
    "\n",
    "v = part3/(part1 + part2)"
   ]
  },
  {
   "cell_type": "markdown",
   "metadata": {},
   "source": [
    "### Distribuição t-student com v graus de liberdade, unicaudal à esquerda."
   ]
  },
  {
   "cell_type": "code",
   "execution_count": 17,
   "metadata": {
    "collapsed": false
   },
   "outputs": [
    {
     "name": "stdout",
     "output_type": "stream",
     "text": [
      "0.501613115105\n"
     ]
    }
   ],
   "source": [
    "valor_p =(scipy.stats.t.sf(T, df=v))# Survival function, definido como 1-cdf, que é igual ao valor-p\n",
    "    \n",
    "alpha = 0.05 #nivel de siginificancia de 5%\n",
    "\n",
    "print(valor_p)"
   ]
  },
  {
   "cell_type": "markdown",
   "metadata": {},
   "source": [
    "### Conclusão"
   ]
  },
  {
   "cell_type": "markdown",
   "metadata": {},
   "source": [
    "### Como o valor p é igual a 0.501613115105 >> 0.05, ou seja,\n",
    "    \n",
    "    valor p >> alpha\n",
    "\n",
    "Podemos rejeitar a hipótese nula com grau de confiança de 95%. Isto significa que, de fato, o site B é melhor que o site A."
   ]
  },
  {
   "cell_type": "markdown",
   "metadata": {},
   "source": [
    "### Justificativa para o valor-p estar tão alto"
   ]
  },
  {
   "cell_type": "markdown",
   "metadata": {
    "collapsed": true
   },
   "source": [
    "Como é possível ver em nosso primeiro dataframe, temos 108 entradas. Isto significa que conseguimos coletar um número grande de \n",
    "usuários. Contudo, apesar de a tarefa ter sido descrita claramente, um número muito pequeno dos usuários foi capaz de concluir a \n",
    "tarefa. Isto significa que em uma próxima iteração do teste deve ser determinado que a pessoa encontre o primeiro item da lista, a\n",
    "fim de facilitar o teste para o usuário.\n",
    "O fato de a conclusão do teste pela amostragem ser pequena diminui a precisão do teste."
   ]
  }
 ],
 "metadata": {
  "kernelspec": {
   "display_name": "Python 3",
   "language": "python",
   "name": "python3"
  },
  "language_info": {
   "codemirror_mode": {
    "name": "ipython",
    "version": 3
   },
   "file_extension": ".py",
   "mimetype": "text/x-python",
   "name": "python",
   "nbconvert_exporter": "python",
   "pygments_lexer": "ipython3",
   "version": "3.5.1"
  }
 },
 "nbformat": 4,
 "nbformat_minor": 0
}
