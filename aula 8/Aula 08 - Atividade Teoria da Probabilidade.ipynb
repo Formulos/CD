{
 "cells": [
  {
   "cell_type": "markdown",
   "metadata": {},
   "source": [
    "___\n",
    "# Atividade: Teoria da Probabilidade\n",
    "___\n",
    "\n",
    "## Aula 08\n",
    "\n",
    "**Referência de Leitura:**\n",
    "1. Magalhães e Lima (7ª. Edição): pág. 49 a 68 - Probabilidades\n",
    "\n",
    "**Hoje:**\n",
    "1. Conceito de Probabilidade\n",
    "4. Probabilidade Condicional\n",
    "3. Independência de eventos\n",
    "5. Teorema de Bayes. Simulação do problema de Monty Hall\n",
    "\n",
    "**Próxima aula:**\n",
    "1. Magalhães e Lima (7ª. Edição): pág. 69 a 104 - Variáveis aleatórias discretas\n",
    "___"
   ]
  },
  {
   "cell_type": "code",
   "execution_count": 1,
   "metadata": {
    "collapsed": true
   },
   "outputs": [],
   "source": [
    "%matplotlib inline\n",
    "import pandas as pd\n",
    "import matplotlib.pyplot as plt\n",
    "\n",
    "#Bibliotecas necessárias\n",
    "import numpy as np\n",
    "import random\n"
   ]
  },
  {
   "cell_type": "markdown",
   "metadata": {},
   "source": [
    "## <font color='blue'>Exercício 1</font>\n",
    "\n",
    "Monte a simulação de 1000 jogadas de um dado idôneo de 6 faces. Faça o histograma (normalizado) da frequência.\n",
    "\n",
    "    a) Olhando o histograma, o que pode se dizer sobre as probabilidade de cada face?\n",
    "    \n",
    "    b) Discorra sobre o porque da probabilidade não ser exatamente igual à teórica."
   ]
  },
  {
   "cell_type": "code",
   "execution_count": 11,
   "metadata": {
    "collapsed": false
   },
   "outputs": [
    {
     "data": {
      "image/png": "[encoded data removed]",
      "text/plain": [
       "<matplotlib.figure.Figure at 0x8985278>"
      ]
     },
     "metadata": {},
     "output_type": "display_data"
    }
   ],
   "source": [
    "data = pd.DataFrame(np.random.randint(1,7,1000))\n",
    "\n",
    "faixa =  np.arange(1,8,1)\n",
    "\n",
    "variável= pd.cut(data, faixa)\n",
    "\n",
    "faixa =  np.arange(0.5,8,1)\n",
    "\n",
    "plot = data.plot.hist(bins=faixa)\n"
   ]
  },
  {
   "cell_type": "markdown",
   "metadata": {},
   "source": [
    "b) porque a probabilidade não é perfeita, como estamos lidadondo com probabilidade o gráfico acima (muito provavelmente) vai ser cada vez que o codigo for rodado."
   ]
  },
  {
   "cell_type": "markdown",
   "metadata": {},
   "source": [
    "___\n",
    "## <font color='blue'>Exercício 2</font>\n",
    "\n",
    "Ampliando o espaço amostral para as possíveis jogadas de 2 dados, analise as seguintes situações:\n",
    "    \n",
    "    a) Jogando os dois dados ao mesmo tempo. Qual é a probabilidade de obter soma 7?\n",
    "    \n",
    "    b) Jogando um dado e depois o segundo dado. Qual é a probabilidade de obter soma 7 já sabendo o resultado do primeiro? Compare o resultado com item anterior! Por que é igual ou diferente?"
   ]
  },
  {
   "cell_type": "code",
   "execution_count": 3,
   "metadata": {
    "collapsed": false
   },
   "outputs": [
    {
     "name": "stdout",
     "output_type": "stream",
     "text": [
      "a) a chance é igual a: 0.19444444444444445 \n",
      "      \n",
      "b) a chance é igual a: 0.16666666666666666 porque já sabendo o resultado do primeiro dado só existe 1 número no segundo dado que    somado ao  número tirado no primeiro dado será igual a 7\n"
     ]
    }
   ],
   "source": [
    "print('a) a chance é igual a:',(7/(6*6)),\"\"\"\n",
    "      \"\"\")\n",
    "\n",
    "print('b) a chance é igual a:',1/6,'porque já sabendo o resultado do primeiro dado só existe 1 número no segundo dado que    somado ao  número tirado no primeiro dado será igual a 7')"
   ]
  },
  {
   "cell_type": "markdown",
   "metadata": {},
   "source": [
    "___\n",
    "## <font color='blue'>Exercício 3</font>\n",
    "\n",
    "Simule 10000 vezes o problema de Monty Hall¹ , usar o seguinte algoritmo:\n",
    "\n",
    "\n",
    "* Repetir 10000 vezes:\n",
    "    * Sorteie um número de porta de 1 a 3 para ser a premiada\n",
    "    * Sorteie um número de porta de 1 a 3 para ser a porta escolhida.\n",
    "    * Sorteie um número de porta para ser a aberta, desde que não seja a premiada e nem a porta escolhida. Assim, se:\n",
    "        * porta premiada é 1 e a escolhida é 1, sorteie entre as portas 2 e 3 para ser aberta\n",
    "        * porta premiada é 1 e a escolhida é 2, com probabilidade 1 deve abrir a porta 3\n",
    "        * porta premiada é 1 e a escolhida é 3, com probabilidade 1 deve abrir a porta 2\n",
    "        * assim para demais casos...\n",
    "    \n",
    "    * Calcule quantas vezes indivíduo ganha ao trocar de porta. Ou seja, se:\n",
    "        * porta premiada é 1, a escolhida é 1 e aberta é 2 (ou 3), indivíduo perde se trocar de porta\n",
    "        * porta premiada é 1, a escolhida é 2 e aberta é 3, indivíduo ganha se trocar de porta\n",
    "        * porta premiada é 1, a escolhida é 3 e aberta é 2, indivíduo ganha se trocar de porta\n",
    "        * assim para demais casos...\n",
    "        \n",
    "    * Exibir quantas vezes em 10000, o indivíduo ganhou ao trocar de porta.\n",
    "\n",
    "Compare o resultado numérico com o resultado analítico obtido via Teorema de Bayes.\n",
    "\n",
    "¹https://en.wikipedia.org/wiki/Monty_Hall_problem e \n",
    "Exercício 1.4.5 de http://www.portalaction.com.br/probabilidades/14-eventos-independentes-e-probabilidade-condicional"
   ]
  },
  {
   "cell_type": "code",
   "execution_count": 8,
   "metadata": {
    "collapsed": false
   },
   "outputs": [
    {
     "name": "stdout",
     "output_type": "stream",
     "text": [
      "66.88\n"
     ]
    }
   ],
   "source": [
    "# jeito porco\n",
    "\n",
    "ganhou = 0\n",
    "n = 10000\n",
    "\n",
    "for x in range(n):\n",
    "    premio = np.random.choice(3)\n",
    "    escolhido = np.random.choice(3)\n",
    "    aberto = np.random.choice(3)\n",
    "    \n",
    "    while aberto == premio or aberto == escolhido : #nota : jeito muito,muito,muito,muito,muito,muito ruim de fazer isso\n",
    "        aberto = np.random.choice(3) # mas pelo menos são só duas linhas\n",
    "        \n",
    "    troca = np.random.choice(3)\n",
    "    while troca == escolhido or troca == aberto: #nota : jeito muito,muito,muito,muito,muito,muito ruim de fazer isso\n",
    "        troca = np.random.choice(3) # mas pelo menos são só duas linhas\n",
    "        \n",
    "    if troca == premio:\n",
    "        ganhou += 1\n",
    "\n",
    "\n",
    "print((ganhou/n) * 100)\n",
    "    \n",
    "    \n",
    "    "
   ]
  },
  {
   "cell_type": "code",
   "execution_count": 5,
   "metadata": {
    "collapsed": false
   },
   "outputs": [
    {
     "name": "stdout",
     "output_type": "stream",
     "text": [
      "resultado (quase) exato: 66.66666666666667\n"
     ]
    }
   ],
   "source": [
    "print('resultado (quase) exato:',10000*2/(3*100))"
   ]
  },
  {
   "cell_type": "code",
   "execution_count": 13,
   "metadata": {
    "collapsed": false
   },
   "outputs": [
    {
     "name": "stdout",
     "output_type": "stream",
     "text": [
      "66.43\n",
      "total de ganhos:  6643\n",
      "a chance de ganhar é:  2 / 3\n"
     ]
    }
   ],
   "source": [
    "#agora funciona para n portas\n",
    "\n",
    "ganhou = 0\n",
    "n = 10000\n",
    "k = 3 #número de portas\n",
    "Trade = True\n",
    "\n",
    "if k<3:\n",
    "    print('impossivel')\n",
    "else:\n",
    "\n",
    "    for x in range(n):\n",
    "        lista_ordenada = list(np.arange(1,k+1))\n",
    "        lista = random.sample(lista_ordenada, len(lista_ordenada))\n",
    "        listaC = list(lista) #uma copia da lista, é a lista das posiveis escolhas do competidor\n",
    "\n",
    "        premio = random.sample(lista,1) # a porta que esta o premio\n",
    "        escolhido = random.sample(listaC,1) # a porta que o jagador escolheu\n",
    "        listaC.remove(escolhido) # o competidor escolhe uma porta, ela é iliminada da lista\n",
    "        lista.remove(premio) # o apresentador nunca vai escolher o premio \n",
    "        \n",
    "        try:\n",
    "            lista.remove(escolhido) #daria erro se a escolha for igual ao premio, o 'try' \"conserta\"\n",
    "        except:\n",
    "            pass\n",
    "\n",
    "\n",
    "        aberto = random.sample(lista,k-2) # abre a porta(ou portas), os elementos: premio e escolha foram apagados da lista, pois o apresentador nunca vai escolher eles\n",
    "        for i in aberto:\n",
    "            listaC.remove(i)# o competidor nunca vai trocar para a porta(s) que ja foi aberta\n",
    "\n",
    "        if Trade == True:\n",
    "            escolha = listaC[0] # so tem uma escolha possivel\n",
    "\n",
    "        if escolha == premio:\n",
    "            ganhou += 1\n",
    "\n",
    "print((ganhou/n) * 100)#cuidado: o python arredonda, principalmente com muitas portas\n",
    "print('total de ganhos: ',ganhou)\n",
    "print('a chance de ganhar é: ',k-1,\"/\",k)"
   ]
  },
  {
   "cell_type": "code",
   "execution_count": 7,
   "metadata": {
    "collapsed": false
   },
   "outputs": [
    {
     "name": "stdout",
     "output_type": "stream",
     "text": [
      "resultado (quase) exato: 66.66666666666667\n"
     ]
    }
   ],
   "source": [
    "print('resultado (quase) exato:',10000*2/(3*100))"
   ]
  },
  {
   "cell_type": "code",
   "execution_count": null,
   "metadata": {
    "collapsed": false
   },
   "outputs": [],
   "source": []
  },
  {
   "cell_type": "code",
   "execution_count": null,
   "metadata": {
    "collapsed": true
   },
   "outputs": [],
   "source": []
  }
 ],
 "metadata": {
  "anaconda-cloud": {},
  "kernelspec": {
   "display_name": "Python 3",
   "language": "python",
   "name": "python3"
  },
  "language_info": {
   "codemirror_mode": {
    "name": "ipython",
    "version": 3
   },
   "file_extension": ".py",
   "mimetype": "text/x-python",
   "name": "python",
   "nbconvert_exporter": "python",
   "pygments_lexer": "ipython3",
   "version": "3.5.1"
  }
 },
 "nbformat": 4,
 "nbformat_minor": 0
}
